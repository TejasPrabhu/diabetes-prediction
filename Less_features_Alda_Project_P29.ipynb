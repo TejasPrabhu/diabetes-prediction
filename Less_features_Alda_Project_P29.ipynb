{
  "cells": [
    {
      "cell_type": "markdown",
      "metadata": {
        "id": "9L4a50tjL4Vl"
      },
      "source": [
        "# Things to explore:\n",
        "Formulate hypthesis and test it accordinly.\n",
        "\n",
        "\n",
        "1. Check correlation between different features. Will it make sense to eliminate the redundant features having strong correlations?e.g. physical health and gen health.\n",
        "\n",
        "2. what are the top 3 deciding features? How does the model works with just these 3 features vs all 21 features?\n",
        "\n",
        "3. Try different methods to find out 3 top features.\n",
        "\n",
        "4. Will creating balanced dataset yield any different results for the model accuracy?\n",
        "\n",
        "5. What other different models can we implement?\n",
        "\n",
        "6. Look for existing research in diabetes field and what questions do they answer. Can we think of any alternative ways to test?"
      ]
    },
    {
      "cell_type": "markdown",
      "metadata": {
        "id": "1iJdBJLPuhC1"
      },
      "source": [
        "#Reference\n",
        "https://www.cdc.gov/pcd/issues/2019/19_0109.htm\n",
        "\n",
        "\n",
        "Read this paper and try to think of couple of questions that we need to answer as a part of this project.\n",
        "\n"
      ]
    },
    {
      "cell_type": "markdown",
      "metadata": {
        "id": "lgPK80F_grC9"
      },
      "source": [
        "# Importing libraries"
      ]
    },
    {
      "cell_type": "code",
      "execution_count": null,
      "metadata": {
        "colab": {
          "base_uri": "https://localhost:8080/"
        },
        "id": "UsW_tJovgPve",
        "outputId": "5f2ff638-63a0-4d5e-aac5-710f0ee44e13"
      },
      "outputs": [
        {
          "name": "stdout",
          "output_type": "stream",
          "text": [
            "Mounted at /content/gdrive\n"
          ]
        }
      ],
      "source": [
        "import pandas as pd\n",
        "import numpy as np\n",
        "import seaborn as sns\n",
        "import matplotlib.pyplot as plt\n",
        "\n",
        "from sklearn import metrics\n",
        "from sklearn.model_selection import train_test_split\n",
        "from sklearn.metrics import confusion_matrix\n",
        "from sklearn.metrics import classification_report\n",
        "from sklearn.metrics import roc_auc_score\n",
        "from sklearn.metrics import roc_curve\n",
        "from google.colab import drive\n",
        "\n",
        "\n",
        "drive.mount('/content/gdrive')"
      ]
    },
    {
      "cell_type": "markdown",
      "metadata": {
        "id": "cbpFF_GXgxRH"
      },
      "source": [
        "# Reading and cleaning data"
      ]
    },
    {
      "cell_type": "code",
      "execution_count": null,
      "metadata": {
        "colab": {
          "base_uri": "https://localhost:8080/"
        },
        "id": "0Dbb09n2gvJe",
        "outputId": "cb522965-b960-4dba-ed35-89a7b1f00f51"
      },
      "outputs": [
        {
          "name": "stdout",
          "output_type": "stream",
          "text": [
            "Diabetes\n",
            "0.0    345166\n",
            "1.0     51339\n",
            "dtype: int64\n",
            "   Diabetes  High_BP     BMI  Mental_Health  General_Health\n",
            "0       0.0      1.0  4018.0           18.0             5.0\n",
            "1       0.0      0.0  2509.0            0.0             3.0\n",
            "2       0.0      0.0  2204.0            0.0             4.0\n",
            "3       0.0      1.0  2819.0           30.0             5.0\n",
            "4       0.0      0.0  2437.0            0.0             5.0\n"
          ]
        }
      ],
      "source": [
        "df = pd.read_csv(\"/content/gdrive/MyDrive/Diabetes Project/2015.csv\")\n",
        "df_selected = df[['DIABETE3',\n",
        "                            '_RFHYPE5',\n",
        "                           #'TOLDHI2',\n",
        "                            '_BMI5',\n",
        "                           #'SMOKE100',\n",
        "                           #'CVDSTRK3',\n",
        "                           #'_MICHD',\n",
        "                           #'_TOTINDA',\n",
        "                           #'_RFDRHV5',\n",
        "                           'MENTHLTH',\n",
        "                           #'PHYSHLTH',\n",
        "                           #'ADDEPEV2',\n",
        "                           #'EXERANY2',\n",
        "                           'GENHLTH',\n",
        "                           #'SEX',\n",
        "                           #'_AGEG5YR',\n",
        "                           #'INCOME2',\n",
        "                          #  'CHCKIDNY'\n",
        "                           ]]\n",
        "\n",
        "\n",
        "#Rename the columns to make them more readable\n",
        "data = df_selected.rename(columns = {'DIABETE3':'Diabetes',\n",
        "                                         '_RFHYPE5':'High_BP',\n",
        "                                        #  'TOLDHI2':'High_Cholestrol',\n",
        "                                         '_BMI5':'BMI',\n",
        "                                        #  'SMOKE100':'Smoker',\n",
        "                                        #  'CVDSTRK3':'Stroke',\n",
        "                                        #  '_MICHD':'Heart_Disease',\n",
        "                                         '_TOTINDA':'Physical_Activity',\n",
        "                                        #  '_RFDRHV5':'Heavy_Alcohol_Consumption',\n",
        "                                         'MENTHLTH':'Mental_Health',\n",
        "                                        #  'PHYSHLTH':'Physical_Health',\n",
        "                                        #  'ADDEPEV2': 'Depression',\n",
        "                                        #  'EXERANY2': 'Exercise',\n",
        "                                         'GENHLTH':'General_Health',\n",
        "                                        #  'SEX':'Sex',\n",
        "                                        #  '_AGEG5YR':'Age',\n",
        "                                        #  'INCOME2':'Income',\n",
        "                                        #  'DECIDE': 'Decision',\n",
        "                                        #  'CHCKIDNY': 'Kidney_Disease'\n",
        "                                     })\n",
        "\n",
        "data.dropna(inplace=True)\n",
        "data.head()\n",
        "\n",
        "data['Diabetes'] = data['Diabetes'].replace({2:0, 3:0, 4:0, 1:1})\n",
        "data = data[data['Diabetes'] != 7]\n",
        "data = data[data['Diabetes'] != 9]\n",
        "\n",
        "data['High_BP'] = data['High_BP'].replace({1:0, 2:1})\n",
        "data = data[data['High_BP'] != 9]\n",
        "\n",
        "# data['High_Cholestrol'] = data['High_Cholestrol'].replace({2:0})\n",
        "# data = data[data['High_Cholestrol'] != 7]\n",
        "# data = data[data['High_Cholestrol'] != 9]\n",
        "\n",
        "data = data[data['General_Health'] != 7]\n",
        "data = data[data['General_Health'] != 9]\n",
        "\n",
        "# data['Smoker'] = data['Smoker'].replace({2:0})\n",
        "# data = data[data['Smoker'] != 7]\n",
        "# data = data[data['Smoker'] != 9]\n",
        "\n",
        "# data['Stroke'] = data['Stroke'].replace({2:0})\n",
        "# data = data[data['Stroke'] != 7]\n",
        "# data = data[data['Stroke'] != 9]\n",
        "\n",
        "# data['Heart_Disease'] = data['Heart_Disease'].replace({2: 0})\n",
        "\n",
        "# data['Physical_Activity'] = data['Physical_Activity'].replace({2:0})\n",
        "# data = data[data['Physical_Activity'] != 9]\n",
        "\n",
        "# data['Heavy_Alcohol_Consumption'] = data['Heavy_Alcohol_Consumption'].replace({1:0, 2:1})\n",
        "# data = data[data['Heavy_Alcohol_Consumption'] != 9]\n",
        "\n",
        "data['Mental_Health'] = data['Mental_Health'].replace({88:0})\n",
        "data = data[data['Mental_Health'] != 77]\n",
        "data = data[data['Mental_Health'] != 99]\n",
        "\n",
        "# data['Physical_Health'] = data['Physical_Health'].replace({88:0})\n",
        "# data = data[data['Physical_Health'] != 77]\n",
        "# data = data[data['Physical_Health'] != 99]\n",
        "\n",
        "# data['Sex'] = data['Sex'].replace({2:0})\n",
        "\n",
        "# data = data[data['Income'] != 77]\n",
        "# data = data[data['Income'] != 99]\n",
        "\n",
        "print(data.groupby(['Diabetes']).size())\n",
        "\n",
        "f1 = []\n",
        "accuracies = []\n",
        "precisions = []\n",
        "recalls = []\n",
        "roc_aucs = []\n",
        "\n",
        "print(data.head())"
      ]
    },
    {
      "cell_type": "markdown",
      "metadata": {
        "id": "_tplucqZDgup"
      },
      "source": [
        "# Standardize data"
      ]
    },
    {
      "cell_type": "code",
      "execution_count": null,
      "metadata": {
        "id": "GjT1M-IhDfw7"
      },
      "outputs": [],
      "source": [
        "# from sklearn.preprocessing import StandardScaler\n",
        "\n",
        "# scaler = StandardScaler()\n",
        "\n",
        "# standardized_data = scaler.fit_transform(data)\n",
        "\n",
        "# print(standardized_data)\n",
        "\n",
        "\n",
        "# data = pd.DataFrame(standardized_data, columns=data.columns)\n",
        "\n",
        "# print(data)"
      ]
    },
    {
      "cell_type": "markdown",
      "metadata": {
        "id": "Kbbn6nDwBHCG"
      },
      "source": [
        "# Utility Functions"
      ]
    },
    {
      "cell_type": "code",
      "execution_count": null,
      "metadata": {
        "id": "xpE8XNp-BGD9"
      },
      "outputs": [],
      "source": [
        "def print_accu_preci_recall(y_test, y_pred):\n",
        "  print(\"Accuracy:\",metrics.accuracy_score(y_test, y_pred))\n",
        "  accuracies.append(metrics.accuracy_score(y_test, y_pred))\n",
        "\n",
        "  # Model Precision: what percentage of positive tuples are labeled as such?\n",
        "  print(\"Precision:\",metrics.precision_score(y_test, y_pred, average='weighted'))\n",
        "  precisions.append(metrics.precision_score(y_test, y_pred, average='weighted'))\n",
        "\n",
        "  # Model Recall: what percentage of positive tuples are labelled as such?\n",
        "  print(\"Recall:\",metrics.recall_score(y_test, y_pred, average='weighted'))\n",
        "  recalls.append(metrics.recall_score(y_test, y_pred, average='weighted'))\n",
        "\n",
        "  print(\"F1-Score:\",metrics.f1_score(y_test, y_pred, average='weighted'))\n",
        "  f1.append(metrics.f1_score(y_test, y_pred, average='weighted'))\n",
        "\n",
        "\n",
        "\n",
        "def print_confusion_matrix_classification_report(y_test, y_pred):\n",
        "  print(\"confusion matrix\")\n",
        "  print(confusion_matrix(y_test, y_pred))\n",
        "  print('-' * 100)\n",
        "  print(\"classification report\")\n",
        "  print(classification_report(y_test, y_pred))\n",
        "\n",
        "\n",
        "def draw_roc_auc(y_test, y_pred, model_name):\n",
        "  roc_auc = roc_auc_score(y_test, y_pred, multi_class='ovr')\n",
        "  roc_aucs.append(roc_auc)\n",
        "  fpr, tpr, thresholds = roc_curve(y_test, y_pred)\n",
        "  plt.figure()\n",
        "  plt.plot(fpr, tpr, label=f'{model_name} (area = %0.2f)' % roc_auc)\n",
        "  plt.plot([0, 1], [0, 1],'r--')\n",
        "  plt.xlim([0.0, 1.0])\n",
        "  plt.ylim([0.0, 1.05])\n",
        "  plt.xlabel('False Positive Rate')\n",
        "  plt.ylabel('True Positive Rate')\n",
        "  plt.title('Receiver operating characteristic')\n",
        "  plt.legend(loc=\"lower right\")\n",
        "  plt.savefig(f'{model_name}_ROC')\n",
        "  plt.show()"
      ]
    },
    {
      "cell_type": "markdown",
      "metadata": {
        "id": "oOes_tmqLRpc"
      },
      "source": [
        "# Creating balanced dataset"
      ]
    },
    {
      "cell_type": "code",
      "execution_count": null,
      "metadata": {
        "colab": {
          "base_uri": "https://localhost:8080/"
        },
        "id": "8j85OZQELbdQ",
        "outputId": "fc6dc4dd-0fc5-470a-94fb-8e97ecb47b6e"
      },
      "outputs": [
        {
          "data": {
            "text/plain": [
              "Diabetes\n",
              "0.0    51339\n",
              "1.0    51339\n",
              "dtype: int64"
            ]
          },
          "execution_count": 6,
          "metadata": {},
          "output_type": "execute_result"
        }
      ],
      "source": [
        "data_1 = data[data['Diabetes'] == 1]\n",
        "data_0 = data[data['Diabetes'] == 0]\n",
        "\n",
        "data_0 = data_0.take(np.random.permutation(len(data_0))[:51339])\n",
        "balanced_data = data_0.append(data_1, ignore_index = True)\n",
        "\n",
        "balanced_data.groupby(['Diabetes']).size()"
      ]
    },
    {
      "cell_type": "markdown",
      "metadata": {
        "id": "FkufLY9ISY4e"
      },
      "source": [
        "# Splitting data into train and test data"
      ]
    },
    {
      "cell_type": "code",
      "execution_count": null,
      "metadata": {
        "id": "-vBUcH9GSixo"
      },
      "outputs": [],
      "source": [
        "X = data.iloc[:,1:19]  #independent columns\n",
        "y = data['Diabetes']    #target column i.e price range\n",
        "X_train, X_test, y_train, y_test = train_test_split(X, y, test_size=0.3, random_state=1)"
      ]
    },
    {
      "cell_type": "markdown",
      "metadata": {
        "id": "5_J_EUz6SvVG"
      },
      "source": [
        "# Splitting balanced data into train and test data"
      ]
    },
    {
      "cell_type": "code",
      "execution_count": null,
      "metadata": {
        "id": "TVY1GKYDSvVI"
      },
      "outputs": [],
      "source": [
        "X_balanced = balanced_data.iloc[:,1:19]  #independent columns\n",
        "y_balanced = balanced_data['Diabetes']    #target column i.e price range\n",
        "X_balanced_train, X_balanced_test, y_balanced_train, y_balanced_test = train_test_split(X_balanced, y_balanced, test_size=0.3, random_state=1)"
      ]
    },
    {
      "cell_type": "markdown",
      "metadata": {
        "id": "yZW27k8XXX8Y"
      },
      "source": [
        "# Correlation"
      ]
    },
    {
      "cell_type": "code",
      "execution_count": null,
      "metadata": {
        "id": "EMQE2GsvBC70"
      },
      "outputs": [],
      "source": [
        "# corrmat = data.corr()\n",
        "# top_corr_features = corrmat.index\n",
        "\n",
        "# plt.figure(figsize=(21,21))\n",
        "# g=sns.heatmap(data[top_corr_features].corr(),annot=True,cmap=\"RdYlGn\")\n",
        "# corrmat"
      ]
    },
    {
      "cell_type": "markdown",
      "metadata": {
        "id": "_M3kCm0o9qzn"
      },
      "source": [
        "From correlation it is clear that probability of diabetes increases with increase in high bp, high bmi, low general health"
      ]
    },
    {
      "cell_type": "markdown",
      "metadata": {
        "id": "L42fJxRX-NCz"
      },
      "source": [
        "# Try Univariate Selection"
      ]
    },
    {
      "cell_type": "code",
      "execution_count": null,
      "metadata": {
        "id": "USuqoBDL_zzT"
      },
      "outputs": [],
      "source": [
        "# import pandas as pd\n",
        "# import numpy as np\n",
        "# from sklearn.feature_selection import SelectKBest\n",
        "# from sklearn.feature_selection import chi2\n",
        "\n",
        "\n",
        "# #apply SelectKBest class to extract top 10 best features\n",
        "# bestfeatures = SelectKBest(score_func=chi2, k=10)\n",
        "# fit = bestfeatures.fit(X,y)\n",
        "# dfscores = pd.DataFrame(fit.scores_)\n",
        "# dfcolumns = pd.DataFrame(X.columns)\n",
        "# #concat two dataframes for better visualization\n",
        "# featureScores = pd.concat([dfcolumns,dfscores],axis=1)\n",
        "# featureScores.columns = ['Specs','Score']  #naming the dataframe columns\n",
        "# print(featureScores.nlargest(10,'Score'))  #print 10 best features\n",
        "\n",
        "# data.shape"
      ]
    },
    {
      "cell_type": "markdown",
      "metadata": {
        "id": "6V3KuuD7B5hM"
      },
      "source": [
        "# Try with decision tree feature importance"
      ]
    },
    {
      "cell_type": "code",
      "execution_count": null,
      "metadata": {
        "id": "-cPZC2V3B5yV"
      },
      "outputs": [],
      "source": [
        "# from sklearn.ensemble import ExtraTreesClassifier\n",
        "\n",
        "\n",
        "# model = ExtraTreesClassifier()\n",
        "# model.fit(X,y)\n",
        "\n",
        "# print(model.feature_importances_)\n",
        "\n",
        "# feat_importances = pd.Series(model.feature_importances_, index=X.columns)\n",
        "# feat_importances.nlargest(10).plot(kind='barh')\n",
        "# plt.show()"
      ]
    },
    {
      "cell_type": "markdown",
      "metadata": {
        "id": "J53t6ph7pEpr"
      },
      "source": [
        "# Decision tree Model"
      ]
    },
    {
      "cell_type": "code",
      "execution_count": null,
      "metadata": {
        "id": "d4BGDUbtpGbc"
      },
      "outputs": [],
      "source": [
        "from sklearn.tree import DecisionTreeClassifier # Import Decision Tree Classifier\n",
        "\n",
        "# With skewed data\n",
        "\n",
        "# Create Decision Tree classifer object\n",
        "deci_tree_clf = DecisionTreeClassifier()\n",
        "\n",
        "# Train Decision Tree Classifer\n",
        "deci_tree_clf = deci_tree_clf.fit(X_train,y_train)\n",
        "\n",
        "#Predict the response for test dataset\n",
        "y_deci_tree_pred = deci_tree_clf.predict(X_test)\n",
        "\n",
        "\n",
        "# # With balanced data\n",
        "\n",
        "# # Create Decision Tree classifer object\n",
        "# deci_tree_clf = DecisionTreeClassifier()\n",
        "\n",
        "# # Train Decision Tree Classifer\n",
        "# deci_tree_clf = deci_tree_clf.fit(X_balanced_train, y_balanced_train)\n",
        "\n",
        "# #Predict the response for test dataset\n",
        "# y_balanced_deci_tree_pred = deci_tree_clf.predict(X_balanced_test)\n",
        "\n"
      ]
    },
    {
      "cell_type": "markdown",
      "metadata": {
        "id": "wuqoSQHNQ6Vr"
      },
      "source": [
        "# Decision tree Stats"
      ]
    },
    {
      "cell_type": "code",
      "execution_count": null,
      "metadata": {
        "colab": {
          "base_uri": "https://localhost:8080/"
        },
        "id": "rbXUpx96vuw4",
        "outputId": "c5dab44a-4ef6-4d8d-cfe2-4cc209011fb9"
      },
      "outputs": [
        {
          "name": "stdout",
          "output_type": "stream",
          "text": [
            "Accuracy: 0.8579426995762996\n",
            "Precision: 0.8164826764854412\n",
            "Recall: 0.8579426995762996\n",
            "F1-Score: 0.8294218065930323\n",
            "----------------------------------------------------------------------------------------------------\n",
            "confusion matrix\n",
            "[[99957  3758]\n",
            " [13140  2097]]\n",
            "----------------------------------------------------------------------------------------------------\n",
            "classification report\n",
            "              precision    recall  f1-score   support\n",
            "\n",
            "         0.0       0.88      0.96      0.92    103715\n",
            "         1.0       0.36      0.14      0.20     15237\n",
            "\n",
            "    accuracy                           0.86    118952\n",
            "   macro avg       0.62      0.55      0.56    118952\n",
            "weighted avg       0.82      0.86      0.83    118952\n",
            "\n",
            "----------------------------------------------------------------------------------------------------\n"
          ]
        },
        {
          "data": {
            "image/png": "[encoded data removed]",
            "text/plain": [
              "<Figure size 432x288 with 1 Axes>"
            ]
          },
          "metadata": {},
          "output_type": "display_data"
        },
        {
          "name": "stdout",
          "output_type": "stream",
          "text": [
            "----------------------------------------------------------------------------------------------------\n"
          ]
        }
      ],
      "source": [
        "# With Skewed Data\n",
        "print_accu_preci_recall(y_test, y_deci_tree_pred)\n",
        "print('-' * 100)\n",
        "print_confusion_matrix_classification_report(y_test, y_deci_tree_pred)\n",
        "print('-' * 100)\n",
        "draw_roc_auc(y_test, y_deci_tree_pred, model_name=\"Decision_Tree\")\n",
        "print('-' * 100)\n",
        "\n",
        "# # With balanced Data\n",
        "# print_accu_preci_recall(y_balanced_test, y_balanced_deci_tree_pred)\n",
        "# print('-' * 100)\n",
        "# print_confusion_matrix_classification_report(y_balanced_test, y_balanced_deci_tree_pred)\n",
        "# print('-' * 100)\n",
        "# draw_roc_auc(y_balanced_test, y_balanced_deci_tree_pred, model_name=\"Decision_Tree\")\n",
        "# print('-' * 100)\n",
        "\n"
      ]
    },
    {
      "cell_type": "markdown",
      "metadata": {
        "id": "XH5sd499r4Bv"
      },
      "source": [
        "# Gaussian Naive Bayes"
      ]
    },
    {
      "cell_type": "code",
      "execution_count": null,
      "metadata": {
        "id": "7Svbv6Atr85G"
      },
      "outputs": [],
      "source": [
        "from sklearn.naive_bayes import GaussianNB\n",
        "\n",
        "gaus_clf = GaussianNB()\n",
        "gaus_clf.fit(X_train, y_train)\n",
        "y_gaus_pred = gaus_clf.predict(X_test)\n",
        "\n",
        "\n",
        "# With balanced data\n",
        "# gaus_clf = DecisionTreeClassifier()\n",
        "# gaus_clf = gaus_clf.fit(X_balanced_train, y_balanced_train)\n",
        "# y_balanced_gaus_pred = gaus_clf.predict(X_balanced_test)\n"
      ]
    },
    {
      "cell_type": "markdown",
      "metadata": {
        "id": "5i9y8AiuYJX3"
      },
      "source": [
        "# Gaussian Naive Bayes stats"
      ]
    },
    {
      "cell_type": "code",
      "execution_count": null,
      "metadata": {
        "colab": {
          "base_uri": "https://localhost:8080/"
        },
        "id": "U97llRm2YIss",
        "outputId": "87b63290-12aa-42b5-919e-a8aa6dbc1a13"
      },
      "outputs": [
        {
          "name": "stdout",
          "output_type": "stream",
          "text": [
            "Accuracy: 0.8452400968457865\n",
            "Precision: 0.8285984664167112\n",
            "Recall: 0.8452400968457865\n",
            "F1-Score: 0.8358939443314521\n",
            "----------------------------------------------------------------------------------------------------\n",
            "confusion matrix\n",
            "[[96362  7353]\n",
            " [11056  4181]]\n",
            "----------------------------------------------------------------------------------------------------\n",
            "classification report\n",
            "              precision    recall  f1-score   support\n",
            "\n",
            "         0.0       0.90      0.93      0.91    103715\n",
            "         1.0       0.36      0.27      0.31     15237\n",
            "\n",
            "    accuracy                           0.85    118952\n",
            "   macro avg       0.63      0.60      0.61    118952\n",
            "weighted avg       0.83      0.85      0.84    118952\n",
            "\n",
            "----------------------------------------------------------------------------------------------------\n"
          ]
        },
        {
          "data": {
            "image/png": "[encoded data removed]",
            "text/plain": [
              "<Figure size 432x288 with 1 Axes>"
            ]
          },
          "metadata": {},
          "output_type": "display_data"
        },
        {
          "name": "stdout",
          "output_type": "stream",
          "text": [
            "----------------------------------------------------------------------------------------------------\n"
          ]
        }
      ],
      "source": [
        "# With Skewed Data\n",
        "print_accu_preci_recall(y_test, y_gaus_pred)\n",
        "print('-' * 100)\n",
        "print_confusion_matrix_classification_report(y_test, y_gaus_pred)\n",
        "print('-' * 100)\n",
        "draw_roc_auc(y_test, y_gaus_pred, model_name=\"Gaussian_Naive_Bayes\")\n",
        "print('-' * 100)\n",
        "\n",
        "# # With balanced Data\n",
        "# print_accu_preci_recall(y_balanced_test, y_balanced_gaus_pred)\n",
        "# print('-' * 100)\n",
        "# print_confusion_matrix_classification_report(y_balanced_test, y_balanced_gaus_pred)\n",
        "# print('-' * 100)\n",
        "# draw_roc_auc(y_balanced_test, y_balanced_gaus_pred, model_name=\"Gaussian_Naive_Bayes\")\n",
        "# print('-' * 100)\n",
        "\n"
      ]
    },
    {
      "cell_type": "markdown",
      "metadata": {
        "id": "zoICE7ilsnXK"
      },
      "source": [
        "# Logistic regression"
      ]
    },
    {
      "cell_type": "code",
      "execution_count": null,
      "metadata": {
        "id": "xR3EEDxCssAi"
      },
      "outputs": [],
      "source": [
        "from sklearn.linear_model import LogisticRegression\n",
        "\n",
        "logreg_clf = LogisticRegression()\n",
        "logreg_clf.fit(X_train, y_train)\n",
        "y_logreg_pred = logreg_clf.predict(X_test)\n",
        "\n",
        "\n",
        "# # With balanced data\n",
        "# logreg_clf = DecisionTreeClassifier()\n",
        "# logreg_clf = logreg_clf.fit(X_balanced_train, y_balanced_train)\n",
        "# y_balanced_logreg_pred = logreg_clf.predict(X_balanced_test)"
      ]
    },
    {
      "cell_type": "markdown",
      "metadata": {
        "id": "x0cVRomCadwo"
      },
      "source": [
        "# Logistic regression stats"
      ]
    },
    {
      "cell_type": "code",
      "execution_count": null,
      "metadata": {
        "colab": {
          "background_save": true
        },
        "id": "OoIFPgObadwp",
        "outputId": "79a0db60-1421-48b8-93ca-65b666855ef9"
      },
      "outputs": [
        {
          "name": "stdout",
          "output_type": "stream",
          "text": [
            "Accuracy: 0.8721585177214338\n",
            "Precision: 0.8324266076828216\n",
            "Recall: 0.8721585177214338\n",
            "F1-Score: 0.8306832347222343\n",
            "----------------------------------------------------------------------------------------------------\n",
            "confusion matrix\n",
            "[[102418   1297]\n",
            " [ 13910   1327]]\n",
            "----------------------------------------------------------------------------------------------------\n",
            "classification report\n",
            "              precision    recall  f1-score   support\n",
            "\n",
            "         0.0       0.88      0.99      0.93    103715\n",
            "         1.0       0.51      0.09      0.15     15237\n",
            "\n",
            "    accuracy                           0.87    118952\n",
            "   macro avg       0.69      0.54      0.54    118952\n",
            "weighted avg       0.83      0.87      0.83    118952\n",
            "\n",
            "----------------------------------------------------------------------------------------------------\n"
          ]
        },
        {
          "data": {
            "image/png": "[encoded data removed]",
            "text/plain": [
              "<Figure size 432x288 with 1 Axes>"
            ]
          },
          "metadata": {},
          "output_type": "display_data"
        },
        {
          "name": "stdout",
          "output_type": "stream",
          "text": [
            "----------------------------------------------------------------------------------------------------\n"
          ]
        }
      ],
      "source": [
        "# With Skewed Data\n",
        "print_accu_preci_recall(y_test, y_logreg_pred)\n",
        "print('-' * 100)\n",
        "print_confusion_matrix_classification_report(y_test, y_logreg_pred)\n",
        "print('-' * 100)\n",
        "draw_roc_auc(y_test, y_logreg_pred, model_name=\"Logistic_Regression\")\n",
        "print('-' * 100)\n",
        "\n",
        "# # With balanced Data\n",
        "# print_accu_preci_recall(y_balanced_test, y_balanced_logreg_pred)\n",
        "# print('-' * 100)\n",
        "# print_confusion_matrix_classification_report(y_balanced_test, y_balanced_logreg_pred)\n",
        "# print('-' * 100)\n",
        "# draw_roc_auc(y_balanced_test, y_balanced_logreg_pred, model_name=\"Logistic_Regression\")\n",
        "# print('-' * 100)\n",
        "\n"
      ]
    },
    {
      "cell_type": "markdown",
      "metadata": {
        "id": "CKxhKDnQq4Us"
      },
      "source": [
        "# ANN Model"
      ]
    },
    {
      "cell_type": "code",
      "execution_count": null,
      "metadata": {
        "colab": {
          "base_uri": "https://localhost:8080/"
        },
        "id": "xw45sf3Jq3cn",
        "outputId": "e078a8a4-1b4d-448f-90b9-9bd9f98505e6"
      },
      "outputs": [
        {
          "name": "stdout",
          "output_type": "stream",
          "text": [
            "Epoch 1/100\n",
            "868/868 [==============================] - 3s 3ms/step - loss: 49.4529 - accuracy: 0.7619 - val_loss: 0.4166 - val_accuracy: 0.8696\n",
            "Epoch 2/100\n",
            "868/868 [==============================] - 2s 2ms/step - loss: 0.4161 - accuracy: 0.8700 - val_loss: 0.4094 - val_accuracy: 0.8696\n",
            "Epoch 3/100\n",
            "868/868 [==============================] - 2s 2ms/step - loss: 0.4112 - accuracy: 0.8700 - val_loss: 0.3993 - val_accuracy: 0.8696\n",
            "Epoch 4/100\n",
            "868/868 [==============================] - 2s 2ms/step - loss: 0.4053 - accuracy: 0.8700 - val_loss: 0.4070 - val_accuracy: 0.8696\n",
            "Epoch 5/100\n",
            "868/868 [==============================] - 2s 2ms/step - loss: 0.3978 - accuracy: 0.8697 - val_loss: 0.4316 - val_accuracy: 0.8696\n",
            "Epoch 6/100\n",
            "868/868 [==============================] - 2s 2ms/step - loss: 0.3946 - accuracy: 0.8691 - val_loss: 0.3748 - val_accuracy: 0.8696\n",
            "Epoch 7/100\n",
            "868/868 [==============================] - 2s 2ms/step - loss: 0.3887 - accuracy: 0.8681 - val_loss: 0.3768 - val_accuracy: 0.8677\n",
            "Epoch 8/100\n",
            "868/868 [==============================] - 2s 2ms/step - loss: 0.3826 - accuracy: 0.8683 - val_loss: 0.3708 - val_accuracy: 0.8696\n",
            "Epoch 9/100\n",
            "868/868 [==============================] - 2s 2ms/step - loss: 0.3768 - accuracy: 0.8679 - val_loss: 0.3812 - val_accuracy: 0.8659\n",
            "Epoch 10/100\n",
            "868/868 [==============================] - 2s 2ms/step - loss: 0.3705 - accuracy: 0.8679 - val_loss: 0.3916 - val_accuracy: 0.8623\n",
            "Epoch 11/100\n",
            "868/868 [==============================] - 2s 2ms/step - loss: 0.3706 - accuracy: 0.8674 - val_loss: 0.3483 - val_accuracy: 0.8685\n",
            "Epoch 12/100\n",
            "868/868 [==============================] - 2s 2ms/step - loss: 0.3659 - accuracy: 0.8674 - val_loss: 0.3503 - val_accuracy: 0.8684\n",
            "Epoch 13/100\n",
            "868/868 [==============================] - 2s 2ms/step - loss: 0.3585 - accuracy: 0.8678 - val_loss: 0.3379 - val_accuracy: 0.8682\n",
            "Epoch 14/100\n",
            "868/868 [==============================] - 2s 2ms/step - loss: 0.3497 - accuracy: 0.8684 - val_loss: 0.3409 - val_accuracy: 0.8696\n",
            "Epoch 15/100\n",
            "868/868 [==============================] - 2s 2ms/step - loss: 0.3430 - accuracy: 0.8689 - val_loss: 0.3363 - val_accuracy: 0.8696\n",
            "Epoch 16/100\n",
            "868/868 [==============================] - 2s 2ms/step - loss: 0.3466 - accuracy: 0.8681 - val_loss: 0.3353 - val_accuracy: 0.8695\n",
            "Epoch 17/100\n",
            "868/868 [==============================] - 2s 2ms/step - loss: 0.3426 - accuracy: 0.8679 - val_loss: 0.3291 - val_accuracy: 0.8694\n",
            "Epoch 18/100\n",
            "868/868 [==============================] - 2s 2ms/step - loss: 0.3359 - accuracy: 0.8688 - val_loss: 0.3240 - val_accuracy: 0.8698\n",
            "Epoch 19/100\n",
            "868/868 [==============================] - 2s 2ms/step - loss: 0.3393 - accuracy: 0.8679 - val_loss: 0.3226 - val_accuracy: 0.8702\n",
            "Epoch 20/100\n",
            "868/868 [==============================] - 4s 5ms/step - loss: 0.3357 - accuracy: 0.8685 - val_loss: 0.3236 - val_accuracy: 0.8711\n",
            "Epoch 21/100\n",
            "868/868 [==============================] - 2s 2ms/step - loss: 0.3371 - accuracy: 0.8674 - val_loss: 0.3397 - val_accuracy: 0.8634\n",
            "Epoch 22/100\n",
            "868/868 [==============================] - 2s 2ms/step - loss: 0.3363 - accuracy: 0.8678 - val_loss: 0.3209 - val_accuracy: 0.8712\n",
            "Epoch 23/100\n",
            "868/868 [==============================] - 2s 2ms/step - loss: 0.3351 - accuracy: 0.8677 - val_loss: 0.3389 - val_accuracy: 0.8624\n",
            "Epoch 24/100\n",
            "868/868 [==============================] - 2s 2ms/step - loss: 0.3354 - accuracy: 0.8673 - val_loss: 0.5319 - val_accuracy: 0.7365\n",
            "Epoch 25/100\n",
            "868/868 [==============================] - 2s 2ms/step - loss: 0.3352 - accuracy: 0.8674 - val_loss: 0.3264 - val_accuracy: 0.8683\n",
            "Epoch 26/100\n",
            "868/868 [==============================] - 2s 2ms/step - loss: 0.3327 - accuracy: 0.8681 - val_loss: 0.3595 - val_accuracy: 0.8696\n",
            "Epoch 27/100\n",
            "868/868 [==============================] - 2s 2ms/step - loss: 0.3359 - accuracy: 0.8667 - val_loss: 0.3454 - val_accuracy: 0.8696\n",
            "Epoch 28/100\n",
            "868/868 [==============================] - 2s 2ms/step - loss: 0.3344 - accuracy: 0.8666 - val_loss: 0.3408 - val_accuracy: 0.8696\n",
            "Epoch 29/100\n",
            "868/868 [==============================] - 2s 2ms/step - loss: 0.3347 - accuracy: 0.8670 - val_loss: 0.4036 - val_accuracy: 0.8182\n",
            "Epoch 30/100\n",
            "868/868 [==============================] - 2s 2ms/step - loss: 0.3308 - accuracy: 0.8679 - val_loss: 0.3199 - val_accuracy: 0.8713\n",
            "Epoch 31/100\n",
            "868/868 [==============================] - 2s 2ms/step - loss: 0.3303 - accuracy: 0.8682 - val_loss: 0.3221 - val_accuracy: 0.8707\n",
            "Epoch 32/100\n",
            "868/868 [==============================] - 2s 2ms/step - loss: 0.3333 - accuracy: 0.8676 - val_loss: 0.3331 - val_accuracy: 0.8622\n",
            "Epoch 33/100\n",
            "868/868 [==============================] - 2s 2ms/step - loss: 0.3336 - accuracy: 0.8668 - val_loss: 0.3357 - val_accuracy: 0.8603\n",
            "Epoch 34/100\n",
            "868/868 [==============================] - 2s 2ms/step - loss: 0.3322 - accuracy: 0.8673 - val_loss: 0.3212 - val_accuracy: 0.8713\n",
            "Epoch 35/100\n",
            "868/868 [==============================] - 2s 2ms/step - loss: 0.3327 - accuracy: 0.8670 - val_loss: 0.3452 - val_accuracy: 0.8553\n",
            "Epoch 36/100\n",
            "868/868 [==============================] - 2s 2ms/step - loss: 0.3323 - accuracy: 0.8672 - val_loss: 0.3291 - val_accuracy: 0.8702\n",
            "Epoch 37/100\n",
            "868/868 [==============================] - 2s 2ms/step - loss: 0.3296 - accuracy: 0.8677 - val_loss: 0.3277 - val_accuracy: 0.8651\n",
            "Epoch 38/100\n",
            "868/868 [==============================] - 2s 2ms/step - loss: 0.3317 - accuracy: 0.8678 - val_loss: 0.3788 - val_accuracy: 0.8336\n",
            "Epoch 39/100\n",
            "868/868 [==============================] - 2s 2ms/step - loss: 0.3331 - accuracy: 0.8667 - val_loss: 0.3252 - val_accuracy: 0.8705\n",
            "Epoch 40/100\n",
            "868/868 [==============================] - 2s 2ms/step - loss: 0.3311 - accuracy: 0.8679 - val_loss: 0.3257 - val_accuracy: 0.8662\n",
            "Epoch 41/100\n",
            "868/868 [==============================] - 2s 2ms/step - loss: 0.3355 - accuracy: 0.8663 - val_loss: 0.3201 - val_accuracy: 0.8715\n",
            "Epoch 42/100\n",
            "868/868 [==============================] - 2s 2ms/step - loss: 0.3322 - accuracy: 0.8674 - val_loss: 0.3199 - val_accuracy: 0.8711\n",
            "Epoch 43/100\n",
            "868/868 [==============================] - 2s 2ms/step - loss: 0.3325 - accuracy: 0.8667 - val_loss: 0.3355 - val_accuracy: 0.8699\n",
            "Epoch 44/100\n",
            "868/868 [==============================] - 2s 2ms/step - loss: 0.3312 - accuracy: 0.8672 - val_loss: 0.3513 - val_accuracy: 0.8696\n",
            "Epoch 45/100\n",
            "868/868 [==============================] - 2s 2ms/step - loss: 0.3344 - accuracy: 0.8665 - val_loss: 0.3624 - val_accuracy: 0.8441\n",
            "Epoch 46/100\n",
            "868/868 [==============================] - 2s 2ms/step - loss: 0.3292 - accuracy: 0.8681 - val_loss: 0.3199 - val_accuracy: 0.8709\n",
            "Epoch 47/100\n",
            "868/868 [==============================] - 2s 2ms/step - loss: 0.3340 - accuracy: 0.8673 - val_loss: 0.3572 - val_accuracy: 0.8477\n",
            "Epoch 48/100\n",
            "868/868 [==============================] - 2s 2ms/step - loss: 0.3309 - accuracy: 0.8677 - val_loss: 0.3370 - val_accuracy: 0.8589\n",
            "Epoch 49/100\n",
            "868/868 [==============================] - 2s 2ms/step - loss: 0.3295 - accuracy: 0.8677 - val_loss: 0.3803 - val_accuracy: 0.8696\n",
            "Epoch 50/100\n",
            "868/868 [==============================] - 2s 2ms/step - loss: 0.3321 - accuracy: 0.8674 - val_loss: 0.3205 - val_accuracy: 0.8705\n",
            "Epoch 51/100\n",
            "868/868 [==============================] - 2s 2ms/step - loss: 0.3317 - accuracy: 0.8680 - val_loss: 0.3634 - val_accuracy: 0.8696\n",
            "Epoch 52/100\n",
            "868/868 [==============================] - 2s 3ms/step - loss: 0.3282 - accuracy: 0.8682 - val_loss: 0.3199 - val_accuracy: 0.8709\n",
            "Epoch 53/100\n",
            "868/868 [==============================] - 2s 2ms/step - loss: 0.3303 - accuracy: 0.8680 - val_loss: 0.3213 - val_accuracy: 0.8696\n",
            "Epoch 54/100\n",
            "868/868 [==============================] - 2s 2ms/step - loss: 0.3313 - accuracy: 0.8674 - val_loss: 0.3698 - val_accuracy: 0.8392\n",
            "Epoch 55/100\n",
            "868/868 [==============================] - 2s 2ms/step - loss: 0.3300 - accuracy: 0.8674 - val_loss: 0.3258 - val_accuracy: 0.8705\n",
            "Epoch 56/100\n",
            "868/868 [==============================] - 2s 2ms/step - loss: 0.3305 - accuracy: 0.8672 - val_loss: 0.3593 - val_accuracy: 0.8696\n",
            "Epoch 57/100\n",
            "868/868 [==============================] - 2s 2ms/step - loss: 0.3325 - accuracy: 0.8670 - val_loss: 0.3308 - val_accuracy: 0.8626\n",
            "Epoch 58/100\n",
            "868/868 [==============================] - 2s 2ms/step - loss: 0.3286 - accuracy: 0.8681 - val_loss: 0.3323 - val_accuracy: 0.8701\n",
            "Epoch 59/100\n",
            "868/868 [==============================] - 2s 2ms/step - loss: 0.3297 - accuracy: 0.8680 - val_loss: 0.3199 - val_accuracy: 0.8710\n",
            "Epoch 60/100\n",
            "868/868 [==============================] - 2s 2ms/step - loss: 0.3328 - accuracy: 0.8671 - val_loss: 0.3240 - val_accuracy: 0.8671\n",
            "Epoch 61/100\n",
            "868/868 [==============================] - 2s 2ms/step - loss: 0.3304 - accuracy: 0.8674 - val_loss: 0.3228 - val_accuracy: 0.8681\n",
            "Epoch 62/100\n",
            "868/868 [==============================] - 2s 2ms/step - loss: 0.3315 - accuracy: 0.8671 - val_loss: 0.3200 - val_accuracy: 0.8711\n",
            "Epoch 63/100\n",
            "868/868 [==============================] - 2s 2ms/step - loss: 0.3277 - accuracy: 0.8688 - val_loss: 0.3199 - val_accuracy: 0.8708\n",
            "Epoch 64/100\n",
            "868/868 [==============================] - 2s 2ms/step - loss: 0.3273 - accuracy: 0.8686 - val_loss: 0.3314 - val_accuracy: 0.8623\n",
            "Epoch 65/100\n",
            "868/868 [==============================] - 2s 2ms/step - loss: 0.3299 - accuracy: 0.8673 - val_loss: 0.3268 - val_accuracy: 0.8705\n",
            "Epoch 66/100\n",
            "868/868 [==============================] - 2s 2ms/step - loss: 0.3293 - accuracy: 0.8679 - val_loss: 0.3199 - val_accuracy: 0.8710\n",
            "Epoch 67/100\n",
            "868/868 [==============================] - 2s 2ms/step - loss: 0.3284 - accuracy: 0.8682 - val_loss: 0.3254 - val_accuracy: 0.8706\n",
            "Epoch 68/100\n",
            "868/868 [==============================] - 2s 2ms/step - loss: 0.3292 - accuracy: 0.8675 - val_loss: 0.3269 - val_accuracy: 0.8653\n",
            "Epoch 69/100\n",
            "868/868 [==============================] - 2s 2ms/step - loss: 0.3292 - accuracy: 0.8678 - val_loss: 0.3304 - val_accuracy: 0.8703\n",
            "Epoch 70/100\n",
            "868/868 [==============================] - 2s 2ms/step - loss: 0.3298 - accuracy: 0.8683 - val_loss: 0.3237 - val_accuracy: 0.8674\n",
            "Epoch 71/100\n",
            "868/868 [==============================] - 2s 2ms/step - loss: 0.3323 - accuracy: 0.8673 - val_loss: 0.3643 - val_accuracy: 0.8696\n",
            "Epoch 72/100\n",
            "868/868 [==============================] - 2s 2ms/step - loss: 0.3273 - accuracy: 0.8687 - val_loss: 0.3376 - val_accuracy: 0.8698\n",
            "Epoch 73/100\n",
            "868/868 [==============================] - 2s 2ms/step - loss: 0.3276 - accuracy: 0.8686 - val_loss: 0.3199 - val_accuracy: 0.8710\n",
            "Epoch 74/100\n",
            "868/868 [==============================] - 2s 2ms/step - loss: 0.3324 - accuracy: 0.8672 - val_loss: 0.3276 - val_accuracy: 0.8704\n",
            "Epoch 75/100\n",
            "868/868 [==============================] - 2s 2ms/step - loss: 0.3285 - accuracy: 0.8680 - val_loss: 0.3220 - val_accuracy: 0.8713\n",
            "Epoch 76/100\n",
            "868/868 [==============================] - 2s 2ms/step - loss: 0.3291 - accuracy: 0.8681 - val_loss: 0.3270 - val_accuracy: 0.8705\n",
            "Epoch 77/100\n",
            "868/868 [==============================] - 2s 2ms/step - loss: 0.3297 - accuracy: 0.8680 - val_loss: 0.3209 - val_accuracy: 0.8700\n",
            "Epoch 78/100\n",
            "868/868 [==============================] - 2s 2ms/step - loss: 0.3265 - accuracy: 0.8689 - val_loss: 0.3212 - val_accuracy: 0.8715\n",
            "Epoch 79/100\n",
            "868/868 [==============================] - 2s 2ms/step - loss: 0.3285 - accuracy: 0.8678 - val_loss: 0.3411 - val_accuracy: 0.8696\n",
            "Epoch 80/100\n",
            "868/868 [==============================] - 2s 2ms/step - loss: 0.3298 - accuracy: 0.8680 - val_loss: 0.3277 - val_accuracy: 0.8649\n",
            "Epoch 81/100\n",
            "868/868 [==============================] - 2s 2ms/step - loss: 0.3277 - accuracy: 0.8681 - val_loss: 0.3574 - val_accuracy: 0.8478\n",
            "Epoch 82/100\n",
            "868/868 [==============================] - 2s 2ms/step - loss: 0.3276 - accuracy: 0.8686 - val_loss: 0.3261 - val_accuracy: 0.8657\n",
            "Epoch 83/100\n",
            "868/868 [==============================] - 2s 2ms/step - loss: 0.3295 - accuracy: 0.8677 - val_loss: 0.3347 - val_accuracy: 0.8699\n",
            "Epoch 84/100\n",
            "868/868 [==============================] - 2s 2ms/step - loss: 0.3280 - accuracy: 0.8685 - val_loss: 0.3986 - val_accuracy: 0.8207\n",
            "Epoch 85/100\n",
            "868/868 [==============================] - 2s 2ms/step - loss: 0.3292 - accuracy: 0.8682 - val_loss: 0.3200 - val_accuracy: 0.8708\n",
            "Epoch 86/100\n",
            "868/868 [==============================] - 3s 4ms/step - loss: 0.3291 - accuracy: 0.8678 - val_loss: 0.3221 - val_accuracy: 0.8709\n",
            "Epoch 87/100\n",
            "868/868 [==============================] - 3s 3ms/step - loss: 0.3271 - accuracy: 0.8686 - val_loss: 0.3366 - val_accuracy: 0.8591\n",
            "Epoch 88/100\n",
            "868/868 [==============================] - 2s 2ms/step - loss: 0.3274 - accuracy: 0.8683 - val_loss: 0.3210 - val_accuracy: 0.8714\n",
            "Epoch 89/100\n",
            "868/868 [==============================] - 2s 2ms/step - loss: 0.3296 - accuracy: 0.8673 - val_loss: 0.3287 - val_accuracy: 0.8703\n",
            "Epoch 90/100\n",
            "868/868 [==============================] - 2s 2ms/step - loss: 0.3275 - accuracy: 0.8688 - val_loss: 0.3208 - val_accuracy: 0.8704\n",
            "Epoch 91/100\n",
            "868/868 [==============================] - 2s 2ms/step - loss: 0.3270 - accuracy: 0.8687 - val_loss: 0.3457 - val_accuracy: 0.8696\n",
            "Epoch 92/100\n",
            "868/868 [==============================] - 2s 2ms/step - loss: 0.3273 - accuracy: 0.8685 - val_loss: 0.3227 - val_accuracy: 0.8683\n",
            "Epoch 93/100\n",
            "868/868 [==============================] - 2s 2ms/step - loss: 0.3266 - accuracy: 0.8685 - val_loss: 0.3219 - val_accuracy: 0.8712\n",
            "Epoch 94/100\n",
            "868/868 [==============================] - 2s 2ms/step - loss: 0.3271 - accuracy: 0.8687 - val_loss: 0.3282 - val_accuracy: 0.8704\n",
            "Epoch 95/100\n",
            "868/868 [==============================] - 2s 2ms/step - loss: 0.3265 - accuracy: 0.8692 - val_loss: 0.3276 - val_accuracy: 0.8704\n",
            "Epoch 96/100\n",
            "868/868 [==============================] - 2s 2ms/step - loss: 0.3262 - accuracy: 0.8690 - val_loss: 0.3200 - val_accuracy: 0.8707\n",
            "Epoch 97/100\n",
            "868/868 [==============================] - 2s 2ms/step - loss: 0.3262 - accuracy: 0.8688 - val_loss: 0.3201 - val_accuracy: 0.8712\n",
            "Epoch 98/100\n",
            "868/868 [==============================] - 2s 2ms/step - loss: 0.3254 - accuracy: 0.8693 - val_loss: 0.3200 - val_accuracy: 0.8712\n",
            "Epoch 99/100\n",
            "868/868 [==============================] - 2s 2ms/step - loss: 0.3262 - accuracy: 0.8690 - val_loss: 0.3199 - val_accuracy: 0.8707\n",
            "Epoch 100/100\n",
            "868/868 [==============================] - 2s 2ms/step - loss: 0.3254 - accuracy: 0.8691 - val_loss: 0.3281 - val_accuracy: 0.8646\n"
          ]
        },
        {
          "data": {
            "text/plain": [
              "<keras.callbacks.History at 0x7fed8c923190>"
            ]
          },
          "execution_count": 18,
          "metadata": {},
          "output_type": "execute_result"
        }
      ],
      "source": [
        "import tensorflow as tf\n",
        "\n",
        "# With Skewed data\n",
        "#Initialising ANN\n",
        "ann = tf.keras.models.Sequential()\n",
        " #Adding First Hidden Layer\n",
        "ann.add(tf.keras.layers.Dense(units=6,activation=\"relu\"))\n",
        " #Adding Second Hidden Layer\n",
        "ann.add(tf.keras.layers.Dense(units=6,activation=\"relu\"))\n",
        "#  #Adding Third Hidden Layer\n",
        "# ann.add(tf.keras.layers.Dense(units=10,activation=\"relu\"))\n",
        "# #Adding Output Layer\n",
        "ann.add(tf.keras.layers.Dense(units=1,activation=\"sigmoid\"))\n",
        "#Compiling ANN\n",
        "ann.compile(optimizer=\"adam\",loss=\"binary_crossentropy\",metrics=['accuracy'])\n",
        "# Fitting ANN\n",
        "ann.fit(X_train,y_train,batch_size=256, epochs = 100, validation_split=0.2)\n",
        "#Predicting result for Single Observation\n",
        "# y_ann_pred_bool =  ann.predict(X_test) > 0.5\n",
        "\n",
        "\n",
        "# # With balanced data\n",
        "\n",
        "# #Initialising ANN\n",
        "# ann_balanced = tf.keras.models.Sequential()\n",
        "#  #Adding First Hidden Layer\n",
        "# ann_balanced.add(tf.keras.layers.Dense(units=6,activation=\"relu\"))\n",
        "#  #Adding Second Hidden Layer\n",
        "# ann_balanced.add(tf.keras.layers.Dense(units=6,activation=\"relu\"))\n",
        "# #Adding Output Layer\n",
        "# ann_balanced.add(tf.keras.layers.Dense(units=1,activation=\"sigmoid\"))\n",
        "# #Compiling ANN\n",
        "# ann_balanced.compile(optimizer=\"adam\",loss=\"binary_crossentropy\",metrics=['accuracy'])\n",
        "# # Fitting ANN\n",
        "# ann_balanced.fit(X_balanced_train,y_balanced_train,batch_size=256,epochs = 100, validation_split=0.2)\n",
        "# #Predicting result for Single Observation\n",
        "# y_balanced_pred_bool =  model.predict(X_balanced_test) > 0.5\n",
        "\n"
      ]
    },
    {
      "cell_type": "markdown",
      "metadata": {
        "id": "o9X8OVjWC2EJ"
      },
      "source": [
        "# ANN Stats"
      ]
    },
    {
      "cell_type": "code",
      "execution_count": null,
      "metadata": {
        "colab": {
          "base_uri": "https://localhost:8080/"
        },
        "id": "XMNFVYa7DB_Z",
        "outputId": "1203307b-05f0-4d44-998c-e756d09f1065"
      },
      "outputs": [
        {
          "name": "stdout",
          "output_type": "stream",
          "text": [
            "3718/3718 [==============================] - 5s 1ms/step\n",
            "Accuracy: 0.8665091801735154\n",
            "Precision: 0.8355040307042982\n",
            "Recall: 0.8665091801735154\n",
            "F1-Score: 0.8436805527445449\n",
            "----------------------------------------------------------------------------------------------------\n",
            "confusion matrix\n",
            "[[99979  3736]\n",
            " [12143  3094]]\n",
            "----------------------------------------------------------------------------------------------------\n",
            "classification report\n",
            "              precision    recall  f1-score   support\n",
            "\n",
            "         0.0       0.89      0.96      0.93    103715\n",
            "         1.0       0.45      0.20      0.28     15237\n",
            "\n",
            "    accuracy                           0.87    118952\n",
            "   macro avg       0.67      0.58      0.60    118952\n",
            "weighted avg       0.84      0.87      0.84    118952\n",
            "\n",
            "----------------------------------------------------------------------------------------------------\n"
          ]
        },
        {
          "data": {
            "image/png": "[encoded data removed]",
            "text/plain": [
              "<Figure size 432x288 with 1 Axes>"
            ]
          },
          "metadata": {},
          "output_type": "display_data"
        },
        {
          "name": "stdout",
          "output_type": "stream",
          "text": [
            "----------------------------------------------------------------------------------------------------\n"
          ]
        }
      ],
      "source": [
        "y_ann_pred_bool =  ann.predict(X_test) > 0.5\n",
        "# With Skewed Data\n",
        "print_accu_preci_recall(y_test, y_ann_pred_bool)\n",
        "print('-' * 100)\n",
        "print_confusion_matrix_classification_report(y_test, y_ann_pred_bool)\n",
        "print('-' * 100)\n",
        "draw_roc_auc(y_test, y_ann_pred_bool, model_name=\"ANN\")\n",
        "print('-' * 100)\n",
        "\n",
        "# # With balanced Data\n",
        "# print_accu_preci_recall(y_balanced_test, y_balanced_pred_bool)\n",
        "# print('-' * 100)\n",
        "# print_confusion_matrix_classification_report(y_balanced_test, y_balanced_pred_bool)\n",
        "# print('-' * 100)\n",
        "# draw_roc_auc(y_balanced_test, y_balanced_pred_bool, model_name=\"ANN\")\n",
        "# print('-' * 100)"
      ]
    },
    {
      "cell_type": "markdown",
      "metadata": {
        "id": "ScatHYpoAFwa"
      },
      "source": [
        "# KNN"
      ]
    },
    {
      "cell_type": "code",
      "execution_count": null,
      "metadata": {
        "id": "15BTUx6WAGBb"
      },
      "outputs": [],
      "source": [
        "from sklearn.neighbors import KNeighborsRegressor\n",
        "\n",
        "\n",
        "knn_model = KNeighborsRegressor(n_neighbors=9)\n",
        "\n",
        "knn_model.fit(X_train, y_train)\n",
        "\n",
        "# Calculate the accuracy of the model\n",
        "\n",
        "\n",
        "# print(np.nonzero_count(test_preds))\n",
        "\n",
        "print(knn_model.score(X_test, y_test))"
      ]
    },
    {
      "cell_type": "code",
      "execution_count": null,
      "metadata": {
        "id": "8qtn46ADAW0k"
      },
      "outputs": [],
      "source": [
        "test_preds = knn_model.predict(X_test) > 0.5\n",
        "\n",
        "# With Skewed Data\n",
        "print_accu_preci_recall(y_test, test_preds)\n",
        "print('-' * 100)\n",
        "print_confusion_matrix_classification_report(y_test, test_preds)\n",
        "print('-' * 100)\n",
        "draw_roc_auc(y_test, test_preds, model_name=\"KNN\")\n",
        "print('-' * 100)"
      ]
    },
    {
      "cell_type": "code",
      "execution_count": null,
      "metadata": {
        "id": "JdBpwiw6rNdB"
      },
      "outputs": [],
      "source": [
        "# from sklearn.ensemble import ExtraTreesClassifier\n",
        "\n",
        "# model = ExtraTreesClassifier()\n",
        "# model.fit(X_train,y_train)\n",
        "\n",
        "# #Predict the response for test dataset\n",
        "# y_pred = clf.predict(X_test)\n",
        "\n",
        "\n",
        "\n",
        "\n",
        "# print(\"Accuracy:\",metrics.accuracy_score(y_test, y_pred))\n",
        "\n",
        "# # Model Precision: what percentage of positive tuples are labeled as such?\n",
        "# print(\"Precision:\",metrics.precision_score(y_test, y_pred, average='weighted'))\n",
        "\n",
        "# # Model Recall: what percentage of positive tuples are labelled as such?\n",
        "# print(\"Recall:\",metrics.recall_score(y_test, y_pred, average='weighted'))"
      ]
    },
    {
      "cell_type": "markdown",
      "metadata": {
        "id": "vEZQRLDqvTQY"
      },
      "source": [
        "# Random Forest"
      ]
    },
    {
      "cell_type": "code",
      "execution_count": null,
      "metadata": {
        "colab": {
          "background_save": true
        },
        "id": "-EViR1IHvVMA"
      },
      "outputs": [],
      "source": [
        "\n",
        "from sklearn.ensemble import RandomForestRegressor\n",
        "\n",
        "# With Skewed data\n",
        "rf = RandomForestRegressor(n_estimators = 1000, random_state = 42, max_depth=5)\n",
        "rf.fit(X_train, y_train)\n",
        "y_rf_pred = rf.predict(X_test) > 0.5\n",
        "\n",
        "\n",
        "# # With balanced data\n",
        "# rf_balanced = RandomForestRegressor()#n_estimators = 1000, random_state = 42, max_depth=5)\n",
        "# rf_balanced.fit(X_balanced_train, y_balanced_train)\n",
        "# y_rf_balanced_pred = rf_balanced.predict(X_balanced_test)"
      ]
    },
    {
      "cell_type": "code",
      "execution_count": null,
      "metadata": {
        "colab": {
          "background_save": true
        },
        "id": "C2-X6ovzeL8m",
        "outputId": "b288329f-3a00-40c9-e164-7d264567e1d8"
      },
      "outputs": [
        {
          "name": "stdout",
          "output_type": "stream",
          "text": [
            "Accuracy: 0.8733354630439168\n",
            "Precision: 0.8362822878912151\n",
            "Recall: 0.8733354630439168\n",
            "F1-Score: 0.825341698515847\n",
            "----------------------------------------------------------------------------------------------------\n",
            "confusion matrix\n",
            "[[103046    669]\n",
            " [ 14398    839]]\n",
            "----------------------------------------------------------------------------------------------------\n",
            "classification report\n",
            "              precision    recall  f1-score   support\n",
            "\n",
            "         0.0       0.88      0.99      0.93    103715\n",
            "         1.0       0.56      0.06      0.10     15237\n",
            "\n",
            "    accuracy                           0.87    118952\n",
            "   macro avg       0.72      0.52      0.52    118952\n",
            "weighted avg       0.84      0.87      0.83    118952\n",
            "\n",
            "----------------------------------------------------------------------------------------------------\n"
          ]
        },
        {
          "data": {
            "image/png": "[encoded data removed]",
            "text/plain": [
              "<Figure size 432x288 with 1 Axes>"
            ]
          },
          "metadata": {},
          "output_type": "display_data"
        },
        {
          "name": "stdout",
          "output_type": "stream",
          "text": [
            "----------------------------------------------------------------------------------------------------\n"
          ]
        }
      ],
      "source": [
        "# With Skewed Data\n",
        "print_accu_preci_recall(y_test, y_rf_pred)\n",
        "print('-' * 100)\n",
        "print_confusion_matrix_classification_report(y_test, y_rf_pred)\n",
        "print('-' * 100)\n",
        "draw_roc_auc(y_test, y_rf_pred, model_name=\"Random_Forest\")\n",
        "print('-' * 100)\n",
        "\n",
        "\n",
        "# # With balanced Data\n",
        "# print_accu_preci_recall(y_balanced_test, y_rf_balanced_pred)\n",
        "# print('-' * 100)\n",
        "# print_confusion_matrix_classification_report(y_balanced_test, y_rf_balanced_pred)\n",
        "# print('-' * 100)\n",
        "# draw_roc_auc(y_balanced_test, y_rf_balanced_pred, model_name=\"ANN\")\n",
        "# print('-' * 100)"
      ]
    },
    {
      "cell_type": "code",
      "execution_count": null,
      "metadata": {
        "colab": {
          "background_save": true
        },
        "id": "m1Wk0BHV5pvj",
        "outputId": "1c01ad49-0024-481e-c33e-1425e5f2e180"
      },
      "outputs": [
        {
          "name": "stdout",
          "output_type": "stream",
          "text": [
            "[0.8579426995762996, 0.8452400968457865, 0.8721585177214338, 0.8665091801735154, 0.8647857959513081, 0.8733354630439168]\n",
            "[0.8164826764854412, 0.8285984664167112, 0.8324266076828216, 0.8355040307042982, 0.8185306477572969, 0.8362822878912151]\n",
            "[0.8294218065930323, 0.8358939443314521, 0.8306832347222343, 0.8436805527445449, 0.8285622453282504, 0.825341698515847]\n",
            "[0.8579426995762996, 0.8452400968457865, 0.8721585177214338, 0.8665091801735154, 0.8647857959513081, 0.8733354630439168]\n",
            "[0.5506958032996222, 0.6017508206981416, 0.5372926055614989, 0.5835182771674986, 0.5395032829270339, 0.5243064819389616]\n"
          ]
        }
      ],
      "source": [
        "print(accuracies)\n",
        "print(precisions)\n",
        "print(f1)\n",
        "print(recalls)\n",
        "print(roc_aucs)"
      ]
    },
    {
      "cell_type": "code",
      "execution_count": null,
      "metadata": {
        "colab": {
          "background_save": true
        },
        "id": "qIMilVp-kftD",
        "outputId": "4ed04fdc-d90c-4d5c-992e-478243c6c364"
      },
      "outputs": [
        {
          "data": {
            "image/png": "[encoded data removed]",
            "text/plain": [
              "<Figure size 432x288 with 1 Axes>"
            ]
          },
          "metadata": {},
          "output_type": "display_data"
        }
      ],
      "source": [
        "x_axis = ['DT', 'NB', 'LR', 'KNN', 'RF', 'ANN']\n",
        "y_axis = accuracies\n",
        "\n",
        "plt.plot(x_axis, y_axis)\n",
        "plt.title('Accuracies of models')\n",
        "plt.xlabel('Models')\n",
        "plt.ylabel('Accuracy')\n",
        "plt.show()"
      ]
    },
    {
      "cell_type": "code",
      "execution_count": null,
      "metadata": {
        "colab": {
          "background_save": true
        },
        "id": "n24lkA3QlGNs",
        "outputId": "bb97e646-189d-4be3-b0ea-0f0912de68fc"
      },
      "outputs": [
        {
          "data": {
            "image/png": "[encoded data removed]",
            "text/plain": [
              "<Figure size 432x288 with 1 Axes>"
            ]
          },
          "metadata": {},
          "output_type": "display_data"
        }
      ],
      "source": [
        "x_axis = ['DT', 'NB', 'LR', 'KNN', 'RF', 'ANN']\n",
        "y_axis = precisions\n",
        "\n",
        "plt.plot(x_axis, y_axis)\n",
        "plt.title('precisions of models')\n",
        "plt.xlabel('Models')\n",
        "plt.ylabel('precision')\n",
        "plt.show()"
      ]
    },
    {
      "cell_type": "code",
      "execution_count": null,
      "metadata": {
        "colab": {
          "background_save": true
        },
        "id": "ebZBqp-tlNmv",
        "outputId": "6988e49d-660b-4ae1-b63d-648e2eebf627"
      },
      "outputs": [
        {
          "data": {
            "image/png": "[encoded data removed]",
            "text/plain": [
              "<Figure size 432x288 with 1 Axes>"
            ]
          },
          "metadata": {},
          "output_type": "display_data"
        }
      ],
      "source": [
        "x_axis = ['DT', 'NB', 'LR', 'KNN', 'RF', 'ANN']\n",
        "y_axis = f1\n",
        "\n",
        "plt.plot(x_axis, y_axis)\n",
        "plt.title('f1 scores of models')\n",
        "plt.xlabel('Models')\n",
        "plt.ylabel('f1 score')\n",
        "plt.show()"
      ]
    },
    {
      "cell_type": "code",
      "execution_count": null,
      "metadata": {
        "colab": {
          "background_save": true
        },
        "id": "8_yj3_njlW-Q",
        "outputId": "31868ba8-6acd-4a28-c793-7a491a0bcb50"
      },
      "outputs": [
        {
          "data": {
            "image/png": "[encoded data removed]",
            "text/plain": [
              "<Figure size 432x288 with 1 Axes>"
            ]
          },
          "metadata": {},
          "output_type": "display_data"
        }
      ],
      "source": [
        "x_axis = ['DT', 'NB', 'LR', 'KNN', 'RF', 'ANN']\n",
        "y_axis = roc_aucs\n",
        "\n",
        "plt.plot(x_axis, y_axis)\n",
        "plt.title('roc_aucs of models')\n",
        "plt.xlabel('Models')\n",
        "plt.ylabel('roc_aucs')\n",
        "plt.show()"
      ]
    },
    {
      "cell_type": "code",
      "execution_count": null,
      "metadata": {
        "colab": {
          "background_save": true
        },
        "id": "4AvB3E1hl8C1",
        "outputId": "2c10e1db-e123-4963-f7cb-fe43dae6cf7e"
      },
      "outputs": [
        {
          "data": {
            "image/png": "[encoded data removed]",
            "text/plain": [
              "<Figure size 432x288 with 1 Axes>"
            ]
          },
          "metadata": {},
          "output_type": "display_data"
        }
      ],
      "source": [
        "x_axis = ['DT', 'NB', 'LR', 'KNN', 'RF', 'ANN']\n",
        "y_axis = recalls\n",
        "\n",
        "plt.plot(x_axis, y_axis)\n",
        "plt.title('recalls of models')\n",
        "plt.xlabel('Models')\n",
        "plt.ylabel('recalls')\n",
        "plt.show()"
      ]
    },
    {
      "cell_type": "code",
      "execution_count": null,
      "metadata": {
        "colab": {
          "background_save": true
        },
        "id": "xLkF4m8BAUO2",
        "outputId": "cb4cdcaf-dbfc-4e2b-9d19-d4b8e9115deb"
      },
      "outputs": [
        {
          "data": {
            "image/png": "[encoded data removed]",
            "text/plain": [
              "<Figure size 432x288 with 1 Axes>"
            ]
          },
          "metadata": {},
          "output_type": "display_data"
        }
      ],
      "source": [
        "x_axis = ['0.0', '1.0']\n",
        "y_axis = [345166, 51339]\n",
        "\n",
        "plt.bar(x_axis, y_axis)\n",
        "plt.title('Count of target variable')\n",
        "plt.xlabel('Has Diabates')\n",
        "plt.ylabel('Count')\n",
        "plt.show()\n"
      ]
    },
    {
      "cell_type": "code",
      "execution_count": null,
      "metadata": {
        "colab": {
          "background_save": true
        },
        "id": "9xmagZ59A7sW",
        "outputId": "76ae7e50-7225-4f39-b139-ec47e9d5cc60"
      },
      "outputs": [
        {
          "data": {
            "image/png": "[encoded data removed]",
            "text/plain": [
              "<Figure size 432x288 with 1 Axes>"
            ]
          },
          "metadata": {},
          "output_type": "display_data"
        }
      ],
      "source": [
        "x_axis = ['0.0', '1.0']\n",
        "y_axis = [51339, 51339]\n",
        "\n",
        "plt.bar(x_axis, y_axis)\n",
        "plt.title('Count of target variable')\n",
        "plt.xlabel('Has Diabates')\n",
        "plt.ylabel('Count')\n",
        "plt.show()"
      ]
    },
    {
      "cell_type": "code",
      "execution_count": null,
      "metadata": {
        "colab": {
          "background_save": true
        },
        "id": "wIkXdCe0IIVi",
        "outputId": "fef301ed-c6b2-4441-cc8f-7dcd4012c225"
      },
      "outputs": [
        {
          "data": {
            "image/png": "[encoded data removed]",
            "text/plain": [
              "<Figure size 432x288 with 1 Axes>"
            ]
          },
          "metadata": {},
          "output_type": "display_data"
        }
      ],
      "source": [
        "labels = ['DT', 'NB', 'LR', 'KNN', 'RF', 'ANN']\n",
        "\n",
        "Original = [0.7967277341776831,\n",
        "0.8006948636761245,\n",
        "0.8594379489201276,\n",
        "0.851565291312972,\n",
        "0.8628137050771866,\n",
        "0.85570490470265]\n",
        "\n",
        "Extracted = [ 0.8579595130809066,\n",
        "0.8452400968457865,\n",
        "0.8721585177214338,\n",
        "0.8647857959513081,\n",
        "0.8733354630439168,\n",
        "0.8719063151523303,\n",
        "]\n",
        "\n",
        "\n",
        "\n",
        "x = np.arange(len(labels))  # the label locations\n",
        "width = 0.35  # the width of the bars\n",
        "\n",
        "fig, ax = plt.subplots()\n",
        "rects1 = ax.bar(x - width/2, Original, width, label='Original')\n",
        "rects2 = ax.bar(x + width/2, Extracted, width, label='Extracted')\n",
        "\n",
        "# Add some text for labels, title and custom x-axis tick labels, etc.\n",
        "ax.set_ylabel('Accuracy')\n",
        "ax.set_title('Comparing accuracies (Original vs Extracted)')\n",
        "ax.set_xticks(x)\n",
        "ax.set_xticklabels(labels)\n",
        "ax.legend()\n",
        "\n",
        "ax.set_ylim([0.7, 0.9])\n",
        "\n",
        "# ax.bar_label(rects1, padding=3)\n",
        "# ax.bar_label(rects2, padding=3)\n",
        "\n",
        "fig.tight_layout()\n",
        "\n",
        "plt.show()\n"
      ]
    },
    {
      "cell_type": "markdown",
      "metadata": {
        "id": "O8F7JQD9keBq"
      },
      "source": [
        "# SVM for prediction"
      ]
    },
    {
      "cell_type": "code",
      "execution_count": null,
      "metadata": {
        "colab": {
          "background_save": true
        },
        "id": "zXSyZzo3kgsR"
      },
      "outputs": [],
      "source": [
        "# # Import train_test_split function\n",
        "# from sklearn.model_selection import train_test_split\n",
        "\n",
        "# # Split dataset into training set and test set\n",
        "# X_train, X_test, y_train, y_test = train_test_split(X, y, test_size=0.3,random_state=109)\n",
        "\n",
        "\n",
        "\n",
        "# #Import svm model\n",
        "# from sklearn import svm\n",
        "\n",
        "# #Create a svm Classifier\n",
        "# clf = svm.SVC(kernel='linear') # Linear Kernel\n",
        "\n",
        "# #Train the model using the training sets\n",
        "# clf.fit(X_train, y_train)\n",
        "\n",
        "# #Predict the response for test dataset\n",
        "# y_pred = clf.predict(X_test)\n",
        "\n",
        "\n",
        "\n",
        "\n",
        "\n",
        "\n",
        "# #Import scikit-learn metrics module for accuracy calculation\n",
        "# from sklearn import metrics\n",
        "\n",
        "# # Model Accuracy: how often is the classifier correct?\n",
        "# print(\"Accuracy:\",metrics.accuracy_score(y_test, y_pred))\n",
        "\n",
        "# # Model Precision: what percentage of positive tuples are labeled as such?\n",
        "# print(\"Precision:\",metrics.precision_score(y_test, y_pred))\n",
        "\n",
        "# # Model Recall: what percentage of positive tuples are labelled as such?\n",
        "# print(\"Recall:\",metrics.recall_score(y_test, y_pred))"
      ]
    }
  ],
  "metadata": {
    "colab": {
      "provenance": []
    },
    "kernelspec": {
      "display_name": "Python 3",
      "name": "python3"
    },
    "language_info": {
      "name": "python"
    }
  },
  "nbformat": 4,
  "nbformat_minor": 0
}