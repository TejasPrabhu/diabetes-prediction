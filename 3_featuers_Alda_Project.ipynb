{
  "cells": [
    {
      "cell_type": "markdown",
      "metadata": {
        "id": "9L4a50tjL4Vl"
      },
      "source": [
        "# Things to explore:\n",
        "Formulate hypthesis and test it accordinly.\n",
        "\n",
        "\n",
        "1. Check correlation between different features. Will it make sense to eliminate the redundant features having strong correlations?e.g. physical health and gen health.\n",
        "\n",
        "2. what are the top 3 deciding features? How does the model works with just these 3 features vs all 21 features?\n",
        "\n",
        "3. Try different methods to find out 3 top features.\n",
        "\n",
        "4. Will creating balanced dataset yield any different results for the model accuracy?\n",
        "\n",
        "5. What other different models can we implement?\n",
        "\n",
        "6. Look for existing research in diabetes field and what questions do they answer. Can we think of any alternative ways to test?"
      ]
    },
    {
      "cell_type": "markdown",
      "metadata": {
        "id": "1iJdBJLPuhC1"
      },
      "source": [
        "#Reference\n",
        "https://www.cdc.gov/pcd/issues/2019/19_0109.htm\n",
        "\n",
        "\n",
        "Read this paper and try to think of couple of questions that we need to answer as a part of this project.\n",
        "\n",
        "https://towardsdatascience.com/feature-selection-techniques-in-machine-learning-with-python-f24e7da3f36e\n"
      ]
    },
    {
      "cell_type": "markdown",
      "metadata": {
        "id": "lgPK80F_grC9"
      },
      "source": [
        "Importing libraries"
      ]
    },
    {
      "cell_type": "code",
      "execution_count": null,
      "metadata": {
        "colab": {
          "base_uri": "https://localhost:8080/"
        },
        "id": "UsW_tJovgPve",
        "outputId": "4081fd27-d1d3-4ea9-da41-8f665742321e"
      },
      "outputs": [
        {
          "output_type": "stream",
          "name": "stdout",
          "text": [
            "Mounted at /content/gdrive\n"
          ]
        }
      ],
      "source": [
        "import pandas as pd\n",
        "import numpy as np\n",
        "import seaborn as sns\n",
        "import matplotlib.pyplot as plt\n",
        "from google.colab import drive\n",
        "from sklearn.feature_selection import SelectKBest\n",
        "from sklearn.feature_selection import chi2\n",
        "\n",
        "\n",
        "drive.mount('/content/gdrive')"
      ]
    },
    {
      "cell_type": "markdown",
      "metadata": {
        "id": "cbpFF_GXgxRH"
      },
      "source": [
        "Reading data"
      ]
    },
    {
      "cell_type": "code",
      "execution_count": null,
      "metadata": {
        "id": "0Dbb09n2gvJe"
      },
      "outputs": [],
      "source": [
        "df_2015 = pd.read_csv(\"/content/gdrive/MyDrive/Diabetes Project/2015.csv\")\n",
        "# print(df_2015.head())"
      ]
    },
    {
      "cell_type": "markdown",
      "metadata": {
        "id": "67YlJmiNhMVj"
      },
      "source": [
        "Taking only required columns"
      ]
    },
    {
      "cell_type": "markdown",
      "metadata": {
        "id": "KPzxR75i-hyJ"
      },
      "source": [
        "# 2015"
      ]
    },
    {
      "cell_type": "code",
      "execution_count": null,
      "metadata": {
        "colab": {
          "base_uri": "https://localhost:8080/"
        },
        "id": "PUKD_KRLhRxF",
        "outputId": "13cff394-57af-40a0-9de6-fc3c78c90129"
      },
      "outputs": [
        {
          "output_type": "stream",
          "name": "stdout",
          "text": [
            "(405049, 4)\n"
          ]
        }
      ],
      "source": [
        "df_2015_selected = df_2015[['DIABETE3',\n",
        "                            # '_RFHYPE5',\n",
        "                           # 'TOLDHI2',\n",
        "                            '_BMI5',\n",
        "                           # 'SMOKE100',\n",
        "                           # 'CVDSTRK3',\n",
        "                           # '_MICHD',\n",
        "                           # '_TOTINDA',\n",
        "                           # '_RFDRHV5',\n",
        "                           'MENTHLTH',\n",
        "                           # 'PHYSHLTH',\n",
        "                           # 'ADDEPEV2',\n",
        "                           # 'EXERANY2',\n",
        "                            'GENHLTH'\n",
        "                           # 'SEX',\n",
        "                           # '_AGEG5YR',\n",
        "                           # 'INCOME2',\n",
        "                           #  'CHCKIDNY'\n",
        "                            ]]\n",
        "\n",
        "\n",
        "#Rename the columns to make them more readable\n",
        "renamed_df_2015 = df_2015_selected.rename(columns = {'DIABETE3':'Diabetes',\n",
        "                                        #  '_RFHYPE5':'High_BP',\n",
        "                                        #  'TOLDHI2':'High_Cholestrol',\n",
        "                                         '_BMI5':'BMI',\n",
        "                                        #  'SMOKE100':'Smoker',\n",
        "                                        #  'CVDSTRK3':'Stroke',\n",
        "                                        #  '_MICHD':'Heart_Disease',\n",
        "                                        #  '_TOTINDA':'Physical_Activity',\n",
        "                                        #  '_RFDRHV5':'Heavy_Alcohol_Consumption',\n",
        "                                         'MENTHLTH':'Mental_Health',\n",
        "                                        #  'PHYSHLTH':'Physical_Health',\n",
        "                                        #  'ADDEPEV2': 'Depression',\n",
        "                                        #  'EXERANY2': 'Exercise',\n",
        "                                         'GENHLTH':'General_Health',\n",
        "                                        #  'SEX':'Sex',\n",
        "                                        #  '_AGEG5YR':'Age',\n",
        "                                        #  'INCOME2':'Income',\n",
        "                                        #  'DECIDE': 'Decision',\n",
        "                                        #  'CHCKIDNY': 'Kidney_Disease'\n",
        "                                         })\n",
        "\n",
        "renamed_df_2015.dropna(inplace=True)\n",
        "renamed_df_2015.head()\n",
        "\n",
        "print(renamed_df_2015.shape)\n"
      ]
    },
    {
      "cell_type": "code",
      "source": [
        "print(renamed_df_2015.columns)"
      ],
      "metadata": {
        "colab": {
          "base_uri": "https://localhost:8080/"
        },
        "id": "5aATycVvq-pe",
        "outputId": "951ee4a8-bba2-4423-e6f9-8f4f67933655"
      },
      "execution_count": null,
      "outputs": [
        {
          "output_type": "stream",
          "name": "stdout",
          "text": [
            "Index(['Diabetes', 'BMI', 'Mental_Health', 'General_Health'], dtype='object')\n"
          ]
        }
      ]
    },
    {
      "cell_type": "markdown",
      "metadata": {
        "id": "K19lHNII1VGt"
      },
      "source": [
        "Cleaning data columns"
      ]
    },
    {
      "cell_type": "code",
      "execution_count": null,
      "metadata": {
        "id": "RugCKDAP1UUr"
      },
      "outputs": [],
      "source": [
        "renamed_df_2015['Diabetes'] = renamed_df_2015['Diabetes'].replace({2:0, 3:0, 4:0, 1:1})\n",
        "renamed_df_2015 = renamed_df_2015[renamed_df_2015['Diabetes'] != 7]\n",
        "renamed_df_2015 = renamed_df_2015[renamed_df_2015['Diabetes'] != 9]\n",
        "\n",
        "\n",
        "# renamed_df_2015['High_BP'] = renamed_df_2015['High_BP'].replace({1:0, 2:1})\n",
        "# renamed_df_2015 = renamed_df_2015[renamed_df_2015['High_BP'] != 9]\n",
        "\n",
        "\n",
        "# renamed_df_2015['High_Cholestrol'] = renamed_df_2015['High_Cholestrol'].replace({2:0})\n",
        "# renamed_df_2015 = renamed_df_2015[renamed_df_2015['High_Cholestrol'] != 7]\n",
        "# renamed_df_2015 = renamed_df_2015[renamed_df_2015['High_Cholestrol'] != 9]\n",
        "\n",
        "\n",
        "renamed_df_2015 = renamed_df_2015[renamed_df_2015['General_Health'] != 7]\n",
        "renamed_df_2015 = renamed_df_2015[renamed_df_2015['General_Health'] != 9]\n",
        "\n",
        "\n",
        "# renamed_df_2015['Smoker'] = renamed_df_2015['Smoker'].replace({2:0})\n",
        "# renamed_df_2015 = renamed_df_2015[renamed_df_2015['Smoker'] != 7]\n",
        "# renamed_df_2015 = renamed_df_2015[renamed_df_2015['Smoker'] != 9]\n",
        "\n",
        "\n",
        "\n",
        "# renamed_df_2015['Stroke'] = renamed_df_2015['Stroke'].replace({2:0})\n",
        "# renamed_df_2015 = renamed_df_2015[renamed_df_2015['Stroke'] != 7]\n",
        "# renamed_df_2015 = renamed_df_2015[renamed_df_2015['Stroke'] != 9]\n",
        "\n",
        "\n",
        "# renamed_df_2015['Heart_Disease'] = renamed_df_2015['Heart_Disease'].replace({2: 0})\n",
        "\n",
        "\n",
        "\n",
        "# renamed_df_2015['Physical_Activity'] = renamed_df_2015['Physical_Activity'].replace({2:0})\n",
        "# renamed_df_2015 = renamed_df_2015[renamed_df_2015['Physical_Activity'] != 9]\n",
        "\n",
        "\n",
        "\n",
        "# renamed_df_2015['Heavy_Alcohol_Consumption'] = renamed_df_2015['Heavy_Alcohol_Consumption'].replace({1:0, 2:1})\n",
        "# renamed_df_2015 = renamed_df_2015[renamed_df_2015['Heavy_Alcohol_Consumption'] != 9]\n",
        "\n",
        "\n",
        "renamed_df_2015['Mental_Health'] = renamed_df_2015['Mental_Health'].replace({88:0})\n",
        "renamed_df_2015 = renamed_df_2015[renamed_df_2015['Mental_Health'] != 77]\n",
        "renamed_df_2015 = renamed_df_2015[renamed_df_2015['Mental_Health'] != 99]\n",
        "\n",
        "\n",
        "\n",
        "# renamed_df_2015['Physical_Health'] = renamed_df_2015['Physical_Health'].replace({88:0})\n",
        "# renamed_df_2015 = renamed_df_2015[renamed_df_2015['Physical_Health'] != 77]\n",
        "# renamed_df_2015 = renamed_df_2015[renamed_df_2015['Physical_Health'] != 99]\n",
        "\n",
        "\n",
        "# renamed_df_2015['Sex'] = renamed_df_2015['Sex'].replace({2:0})\n",
        "\n",
        "\n",
        "# renamed_df_2015 = renamed_df_2015[renamed_df_2015['Income'] != 77]\n",
        "# renamed_df_2015 = renamed_df_2015[renamed_df_2015['Income'] != 99]\n",
        "\n",
        "\n",
        "#  renamed_df_2015.groupby(['Diabetes']).size()\n",
        "\n"
      ]
    },
    {
      "cell_type": "markdown",
      "metadata": {
        "id": "oOes_tmqLRpc"
      },
      "source": [
        "# Creating balanced dataset"
      ]
    },
    {
      "cell_type": "code",
      "execution_count": null,
      "metadata": {
        "colab": {
          "base_uri": "https://localhost:8080/"
        },
        "id": "8j85OZQELbdQ",
        "outputId": "0d395d69-93a6-4724-b8f6-220862ef08fc"
      },
      "outputs": [
        {
          "output_type": "execute_result",
          "data": {
            "text/plain": [
              "Diabetes\n",
              "0.0    37367\n",
              "1.0    52360\n",
              "dtype: int64"
            ]
          },
          "metadata": {},
          "execution_count": 43
        }
      ],
      "source": [
        "renamed_df_2015_1 = renamed_df_2015[renamed_df_2015['Diabetes'] == 1]\n",
        "renamed_df_2015_0 = renamed_df_2015[renamed_df_2015['Diabetes'] == 0]\n",
        "\n",
        "renamed_df_2015_0 = renamed_df_2015_0.take(np.random.permutation(len(renamed_df_2015_0))[:37367])\n",
        "final_2015 = renamed_df_2015_0.append(renamed_df_2015_1, ignore_index = True)\n",
        "\n",
        "final_2015.groupby(['Diabetes']).size()"
      ]
    },
    {
      "cell_type": "markdown",
      "metadata": {
        "id": "yZW27k8XXX8Y"
      },
      "source": [
        "# Correlation"
      ]
    },
    {
      "cell_type": "code",
      "execution_count": null,
      "metadata": {
        "colab": {
          "base_uri": "https://localhost:8080/",
          "height": 1000
        },
        "id": "EMQE2GsvBC70",
        "outputId": "220f1c34-2d17-42ed-919a-74139895b977"
      },
      "outputs": [
        {
          "output_type": "execute_result",
          "data": {
            "text/plain": [
              "                Diabetes       BMI  Mental_Health  General_Health\n",
              "Diabetes        1.000000  0.210710       0.059078        0.279481\n",
              "BMI             0.210710  1.000000       0.075042        0.218479\n",
              "Mental_Health   0.059078  0.075042       1.000000        0.292990\n",
              "General_Health  0.279481  0.218479       0.292990        1.000000"
            ],
            "text/html": [
              "\n",
              "  <div id=\"df-d552cb13-001a-497f-88e1-4b76967e50ff\">\n",
              "    <div class=\"colab-df-container\">\n",
              "      <div>\n",
              "<style scoped>\n",
              "    .dataframe tbody tr th:only-of-type {\n",
              "        vertical-align: middle;\n",
              "    }\n",
              "\n",
              "    .dataframe tbody tr th {\n",
              "        vertical-align: top;\n",
              "    }\n",
              "\n",
              "    .dataframe thead th {\n",
              "        text-align: right;\n",
              "    }\n",
              "</style>\n",
              "<table border=\"1\" class=\"dataframe\">\n",
              "  <thead>\n",
              "    <tr style=\"text-align: right;\">\n",
              "      <th></th>\n",
              "      <th>Diabetes</th>\n",
              "      <th>BMI</th>\n",
              "      <th>Mental_Health</th>\n",
              "      <th>General_Health</th>\n",
              "    </tr>\n",
              "  </thead>\n",
              "  <tbody>\n",
              "    <tr>\n",
              "      <th>Diabetes</th>\n",
              "      <td>1.000000</td>\n",
              "      <td>0.210710</td>\n",
              "      <td>0.059078</td>\n",
              "      <td>0.279481</td>\n",
              "    </tr>\n",
              "    <tr>\n",
              "      <th>BMI</th>\n",
              "      <td>0.210710</td>\n",
              "      <td>1.000000</td>\n",
              "      <td>0.075042</td>\n",
              "      <td>0.218479</td>\n",
              "    </tr>\n",
              "    <tr>\n",
              "      <th>Mental_Health</th>\n",
              "      <td>0.059078</td>\n",
              "      <td>0.075042</td>\n",
              "      <td>1.000000</td>\n",
              "      <td>0.292990</td>\n",
              "    </tr>\n",
              "    <tr>\n",
              "      <th>General_Health</th>\n",
              "      <td>0.279481</td>\n",
              "      <td>0.218479</td>\n",
              "      <td>0.292990</td>\n",
              "      <td>1.000000</td>\n",
              "    </tr>\n",
              "  </tbody>\n",
              "</table>\n",
              "</div>\n",
              "      <button class=\"colab-df-convert\" onclick=\"convertToInteractive('df-d552cb13-001a-497f-88e1-4b76967e50ff')\"\n",
              "              title=\"Convert this dataframe to an interactive table.\"\n",
              "              style=\"display:none;\">\n",
              "        \n",
              "  <svg xmlns=\"http://www.w3.org/2000/svg\" height=\"24px\"viewBox=\"0 0 24 24\"\n",
              "       width=\"24px\">\n",
              "    <path d=\"M0 0h24v24H0V0z\" fill=\"none\"/>\n",
              "    <path d=\"M18.56 5.44l.94 2.06.94-2.06 2.06-.94-2.06-.94-.94-2.06-.94 2.06-2.06.94zm-11 1L8.5 8.5l.94-2.06 2.06-.94-2.06-.94L8.5 2.5l-.94 2.06-2.06.94zm10 10l.94 2.06.94-2.06 2.06-.94-2.06-.94-.94-2.06-.94 2.06-2.06.94z\"/><path d=\"M17.41 7.96l-1.37-1.37c-.4-.4-.92-.59-1.43-.59-.52 0-1.04.2-1.43.59L10.3 9.45l-7.72 7.72c-.78.78-.78 2.05 0 2.83L4 21.41c.39.39.9.59 1.41.59.51 0 1.02-.2 1.41-.59l7.78-7.78 2.81-2.81c.8-.78.8-2.07 0-2.86zM5.41 20L4 18.59l7.72-7.72 1.47 1.35L5.41 20z\"/>\n",
              "  </svg>\n",
              "      </button>\n",
              "      \n",
              "  <style>\n",
              "    .colab-df-container {\n",
              "      display:flex;\n",
              "      flex-wrap:wrap;\n",
              "      gap: 12px;\n",
              "    }\n",
              "\n",
              "    .colab-df-convert {\n",
              "      background-color: #E8F0FE;\n",
              "      border: none;\n",
              "      border-radius: 50%;\n",
              "      cursor: pointer;\n",
              "      display: none;\n",
              "      fill: #1967D2;\n",
              "      height: 32px;\n",
              "      padding: 0 0 0 0;\n",
              "      width: 32px;\n",
              "    }\n",
              "\n",
              "    .colab-df-convert:hover {\n",
              "      background-color: #E2EBFA;\n",
              "      box-shadow: 0px 1px 2px rgba(60, 64, 67, 0.3), 0px 1px 3px 1px rgba(60, 64, 67, 0.15);\n",
              "      fill: #174EA6;\n",
              "    }\n",
              "\n",
              "    [theme=dark] .colab-df-convert {\n",
              "      background-color: #3B4455;\n",
              "      fill: #D2E3FC;\n",
              "    }\n",
              "\n",
              "    [theme=dark] .colab-df-convert:hover {\n",
              "      background-color: #434B5C;\n",
              "      box-shadow: 0px 1px 3px 1px rgba(0, 0, 0, 0.15);\n",
              "      filter: drop-shadow(0px 1px 2px rgba(0, 0, 0, 0.3));\n",
              "      fill: #FFFFFF;\n",
              "    }\n",
              "  </style>\n",
              "\n",
              "      <script>\n",
              "        const buttonEl =\n",
              "          document.querySelector('#df-d552cb13-001a-497f-88e1-4b76967e50ff button.colab-df-convert');\n",
              "        buttonEl.style.display =\n",
              "          google.colab.kernel.accessAllowed ? 'block' : 'none';\n",
              "\n",
              "        async function convertToInteractive(key) {\n",
              "          const element = document.querySelector('#df-d552cb13-001a-497f-88e1-4b76967e50ff');\n",
              "          const dataTable =\n",
              "            await google.colab.kernel.invokeFunction('convertToInteractive',\n",
              "                                                     [key], {});\n",
              "          if (!dataTable) return;\n",
              "\n",
              "          const docLinkHtml = 'Like what you see? Visit the ' +\n",
              "            '<a target=\"_blank\" href=https://colab.research.google.com/notebooks/data_table.ipynb>data table notebook</a>'\n",
              "            + ' to learn more about interactive tables.';\n",
              "          element.innerHTML = '';\n",
              "          dataTable['output_type'] = 'display_data';\n",
              "          await google.colab.output.renderOutput(dataTable, element);\n",
              "          const docLink = document.createElement('div');\n",
              "          docLink.innerHTML = docLinkHtml;\n",
              "          element.appendChild(docLink);\n",
              "        }\n",
              "      </script>\n",
              "    </div>\n",
              "  </div>\n",
              "  "
            ]
          },
          "metadata": {},
          "execution_count": 6
        },
        {
          "output_type": "display_data",
          "data": {
            "text/plain": [
              "<Figure size 1512x1512 with 2 Axes>"
            ],
            "image/png": "[encoded data removed]"
          },
          "metadata": {
            "needs_background": "light"
          }
        }
      ],
      "source": [
        "corrmat = renamed_df_2015.corr()\n",
        "top_corr_features = corrmat.index\n",
        "\n",
        "plt.figure(figsize=(21,21))\n",
        "g=sns.heatmap(renamed_df_2015[top_corr_features].corr(),annot=True,cmap=\"RdYlGn\")\n",
        "corrmat"
      ]
    },
    {
      "cell_type": "markdown",
      "metadata": {
        "id": "_M3kCm0o9qzn"
      },
      "source": [
        "From correlation it is clear that probability of diabetes increases with increase in high bp, high bmi, low general health"
      ]
    },
    {
      "cell_type": "markdown",
      "metadata": {
        "id": "L42fJxRX-NCz"
      },
      "source": [
        "# Try Univariate Selection"
      ]
    },
    {
      "cell_type": "code",
      "execution_count": null,
      "metadata": {
        "colab": {
          "base_uri": "https://localhost:8080/"
        },
        "id": "USuqoBDL_zzT",
        "outputId": "ad462494-6399-42a1-feae-bc4a0717c793"
      },
      "outputs": [
        {
          "output_type": "stream",
          "name": "stdout",
          "text": [
            "     Specs         Score\n",
            "1      BMI  3.097554e+06\n",
            "0  High_BP  5.901165e+03\n"
          ]
        },
        {
          "output_type": "execute_result",
          "data": {
            "text/plain": [
              "(405049, 4)"
            ]
          },
          "metadata": {},
          "execution_count": 78
        }
      ],
      "source": [
        "import pandas as pd\n",
        "import numpy as np\n",
        "from sklearn.feature_selection import SelectKBest\n",
        "from sklearn.feature_selection import chi2\n",
        "\n",
        "# X = final_2015.iloc[:,0:18]  #independent columns\n",
        "# y = final_2015.iloc[:,-1]    #target column i.e price range\n",
        "\n",
        "X = renamed_df_2015.iloc[:,1:3]  #independent columns\n",
        "y = renamed_df_2015['Diabetes']    #target column i.e price range\n",
        "#apply SelectKBest class to extract top 10 best features\n",
        "bestfeatures = SelectKBest(score_func=chi2, k=2)\n",
        "fit = bestfeatures.fit(X,y)\n",
        "dfscores = pd.DataFrame(fit.scores_)\n",
        "dfcolumns = pd.DataFrame(X.columns)\n",
        "#concat two dataframes for better visualization\n",
        "featureScores = pd.concat([dfcolumns,dfscores],axis=1)\n",
        "featureScores.columns = ['Specs','Score']  #naming the dataframe columns\n",
        "print(featureScores.nlargest(10,'Score'))  #print 10 best features\n",
        "\n",
        "\n",
        "renamed_df_2015.shape"
      ]
    },
    {
      "cell_type": "markdown",
      "metadata": {
        "id": "6V3KuuD7B5hM"
      },
      "source": [
        "# Try with decision tree feature importance"
      ]
    },
    {
      "cell_type": "code",
      "execution_count": null,
      "metadata": {
        "colab": {
          "base_uri": "https://localhost:8080/",
          "height": 283
        },
        "id": "-cPZC2V3B5yV",
        "outputId": "80138b9d-bdc8-465d-d6f9-686e4ad97269"
      },
      "outputs": [
        {
          "output_type": "stream",
          "name": "stdout",
          "text": [
            "[0.48225751 0.51774249]\n"
          ]
        },
        {
          "output_type": "display_data",
          "data": {
            "text/plain": [
              "<Figure size 432x288 with 1 Axes>"
            ],
            "image/png": "[encoded data removed]"
          },
          "metadata": {
            "needs_background": "light"
          }
        }
      ],
      "source": [
        "# data = pd.read_csv(\"D://Blogs//train.csv\")\n",
        "# X = data.iloc[:,0:20]  #independent columns\n",
        "# y = data.iloc[:,-1]    #target column i.e price range\n",
        "from sklearn.ensemble import ExtraTreesClassifier\n",
        "import matplotlib.pyplot as plt\n",
        "model = ExtraTreesClassifier()\n",
        "model.fit(X,y)\n",
        "print(model.feature_importances_)\n",
        "feat_importances = pd.Series(model.feature_importances_, index=X.columns)\n",
        "feat_importances.nlargest(10).plot(kind='barh')\n",
        "plt.show()"
      ]
    },
    {
      "cell_type": "markdown",
      "metadata": {
        "id": "O8F7JQD9keBq"
      },
      "source": [
        "# SVM for prediction"
      ]
    },
    {
      "cell_type": "code",
      "execution_count": null,
      "metadata": {
        "id": "zXSyZzo3kgsR"
      },
      "outputs": [],
      "source": [
        "# # Import train_test_split function\n",
        "# from sklearn.model_selection import train_test_split\n",
        "\n",
        "# # Split dataset into training set and test set\n",
        "# X_train, X_test, y_train, y_test = train_test_split(X, y, test_size=0.3,random_state=109)\n",
        "\n",
        "\n",
        "\n",
        "# #Import svm model\n",
        "# from sklearn import svm\n",
        "\n",
        "# #Create a svm Classifier\n",
        "# clf = svm.SVC(kernel='linear') # Linear Kernel\n",
        "\n",
        "# #Train the model using the training sets\n",
        "# clf.fit(X_train, y_train)\n",
        "\n",
        "# #Predict the response for test dataset\n",
        "# y_pred = clf.predict(X_test)\n",
        "\n",
        "\n",
        "\n",
        "\n",
        "\n",
        "\n",
        "# #Import scikit-learn metrics module for accuracy calculation\n",
        "# from sklearn import metrics\n",
        "\n",
        "# # Model Accuracy: how often is the classifier correct?\n",
        "# print(\"Accuracy:\",metrics.accuracy_score(y_test, y_pred))\n",
        "\n",
        "# # Model Precision: what percentage of positive tuples are labeled as such?\n",
        "# print(\"Precision:\",metrics.precision_score(y_test, y_pred))\n",
        "\n",
        "# # Model Recall: what percentage of positive tuples are labelled as such?\n",
        "# print(\"Recall:\",metrics.recall_score(y_test, y_pred))"
      ]
    },
    {
      "cell_type": "markdown",
      "metadata": {
        "id": "J53t6ph7pEpr"
      },
      "source": [
        "# Decision tree"
      ]
    },
    {
      "cell_type": "code",
      "execution_count": null,
      "metadata": {
        "colab": {
          "base_uri": "https://localhost:8080/"
        },
        "id": "d4BGDUbtpGbc",
        "outputId": "aab18bda-8d0f-4455-acab-fa5d642f7b2a"
      },
      "outputs": [
        {
          "output_type": "stream",
          "name": "stdout",
          "text": [
            "Accuracy: 0.862862367467454\n",
            "Precision: 0.7969470728116137\n",
            "Recall: 0.862862367467454\n"
          ]
        }
      ],
      "source": [
        "import pandas as pd\n",
        "from sklearn.tree import DecisionTreeClassifier # Import Decision Tree Classifier\n",
        "from sklearn.model_selection import train_test_split # Import train_test_split function\n",
        "from sklearn import metrics\n",
        "\n",
        "X = renamed_df_2015.iloc[:,1:3]  #independent columns\n",
        "y = renamed_df_2015['Diabetes']\n",
        "\n",
        "X_train, X_test, y_train, y_test = train_test_split(X, y, test_size=0.3, random_state=1)\n",
        "\n",
        "# Create Decision Tree classifer object\n",
        "clf = DecisionTreeClassifier()\n",
        "\n",
        "# Train Decision Tree Classifer\n",
        "clf = clf.fit(X_train,y_train)\n",
        "\n",
        "#Predict the response for test dataset\n",
        "y_pred = clf.predict(X_test)\n",
        "\n",
        "\n",
        "\n",
        "\n",
        "print(\"Accuracy:\",metrics.accuracy_score(y_test, y_pred))\n",
        "\n",
        "# Model Precision: what percentage of positive tuples are labeled as such?\n",
        "print(\"Precision:\",metrics.precision_score(y_test, y_pred, average='weighted'))\n",
        "\n",
        "# Model Recall: what percentage of positive tuples are labelled as such?\n",
        "print(\"Recall:\",metrics.recall_score(y_test, y_pred, average='weighted'))\n",
        "\n",
        "\n"
      ]
    },
    {
      "cell_type": "code",
      "execution_count": null,
      "metadata": {
        "id": "JdBpwiw6rNdB"
      },
      "outputs": [],
      "source": [
        "from sklearn.ensemble import ExtraTreesClassifier\n",
        "\n",
        "model = ExtraTreesClassifier()\n",
        "model.fit(X_train,y_train)\n",
        "\n",
        "#Predict the response for test dataset\n",
        "y_pred = clf.predict(X_test)\n",
        "\n",
        "\n",
        "\n",
        "\n",
        "print(\"Accuracy:\",metrics.accuracy_score(y_test, y_pred))\n",
        "\n",
        "# Model Precision: what percentage of positive tuples are labeled as such?\n",
        "print(\"Precision:\",metrics.precision_score(y_test, y_pred, average='weighted'))\n",
        "\n",
        "# Model Recall: what percentage of positive tuples are labelled as such?\n",
        "print(\"Recall:\",metrics.recall_score(y_test, y_pred, average='weighted'))"
      ]
    },
    {
      "cell_type": "markdown",
      "metadata": {
        "id": "XH5sd499r4Bv"
      },
      "source": [
        "# Gaussian Naive Bayes"
      ]
    },
    {
      "cell_type": "code",
      "execution_count": null,
      "metadata": {
        "id": "7Svbv6Atr85G"
      },
      "outputs": [],
      "source": [
        "from sklearn.naive_bayes import GaussianNB\n",
        "clf = GaussianNB()\n",
        "clf.fit(X_train, y_train)\n",
        "\n",
        "#Predict the response for test dataset\n",
        "y_pred = clf.predict(X_test)\n",
        "\n",
        "\n",
        "\n",
        "\n",
        "print(\"Accuracy:\",metrics.accuracy_score(y_test, y_pred))\n",
        "\n",
        "# Model Precision: what percentage of positive tuples are labeled as such?\n",
        "print(\"Precision:\",metrics.precision_score(y_test, y_pred, average='weighted'))\n",
        "\n",
        "# Model Recall: what percentage of positive tuples are labelled as such?\n",
        "print(\"Recall:\",metrics.recall_score(y_test, y_pred, average='weighted'))"
      ]
    },
    {
      "cell_type": "markdown",
      "metadata": {
        "id": "zoICE7ilsnXK"
      },
      "source": [
        "# Logistic regression"
      ]
    },
    {
      "cell_type": "code",
      "execution_count": null,
      "metadata": {
        "id": "xR3EEDxCssAi"
      },
      "outputs": [],
      "source": [
        "from sklearn.linear_model import LogisticRegression\n",
        "from sklearn import metrics\n",
        "from sklearn.metrics import confusion_matrix\n",
        "from sklearn.metrics import classification_report\n",
        "from sklearn.metrics import roc_auc_score\n",
        "from sklearn.metrics import roc_curve\n",
        "\n",
        "\n",
        "X_train, X_test, y_train, y_test = train_test_split(X, y, test_size=0.3, random_state=0)\n",
        "logreg = LogisticRegression()\n",
        "logreg.fit(X_train, y_train)\n",
        "\n",
        "y_pred = logreg.predict(X_test)\n",
        "\n",
        "print(\"Accuracy:\",metrics.accuracy_score(y_test, y_pred))\n",
        "\n",
        "# Model Precision: what percentage of positive tuples are labeled as such?\n",
        "print(\"Precision:\",metrics.precision_score(y_test, y_pred, average='weighted'))\n",
        "\n",
        "# Model Recall: what percentage of positive tuples are labelled as such?\n",
        "print(\"Recall:\",metrics.recall_score(y_test, y_pred, average='weighted'))\n",
        "\n",
        "confusion_matrix = confusion_matrix(y_test, y_pred)\n",
        "print(confusion_matrix)\n",
        "\n",
        "\n",
        "\n",
        "print(classification_report(y_test, y_pred))\n",
        "\n",
        "\n",
        "\n",
        "# logit_roc_auc = roc_auc_score(y_test, logreg.predict(X_test), multi_class='ovr')\n",
        "# fpr, tpr, thresholds = roc_curve(y_test, logreg.predict_proba(X_test)[:,1])\n",
        "# plt.figure()\n",
        "# plt.plot(fpr, tpr, label='Logistic Regression (area = %0.2f)' % logit_roc_auc)\n",
        "# plt.plot([0, 1], [0, 1],'r--')\n",
        "# plt.xlim([0.0, 1.0])\n",
        "# plt.ylim([0.0, 1.05])\n",
        "# plt.xlabel('False Positive Rate')\n",
        "# plt.ylabel('True Positive Rate')\n",
        "# plt.title('Receiver operating characteristic')\n",
        "# plt.legend(loc=\"lower right\")\n",
        "# plt.savefig('Log_ROC')\n",
        "# plt.show()"
      ]
    },
    {
      "cell_type": "markdown",
      "metadata": {
        "id": "vEZQRLDqvTQY"
      },
      "source": [
        "# Random Forest"
      ]
    },
    {
      "cell_type": "code",
      "execution_count": null,
      "metadata": {
        "id": "-EViR1IHvVMA"
      },
      "outputs": [],
      "source": [
        "# Import the model we are using\n",
        "from sklearn.ensemble import RandomForestRegressor\n",
        "# Instantiate model with 1000 decision trees\n",
        "rf = RandomForestRegressor(n_estimators = 1000, random_state = 42, max_depth=5)\n",
        "\n",
        "X_train, X_test, y_train, y_test = train_test_split(X, y, test_size=0.3, random_state=1)\n",
        "\n",
        "# Train the model on training data\n",
        "rf.fit(X_train, y_train)\n",
        "\n",
        "# Use the forest's predict method on the test data\n",
        "y_pred = rf.predict(X_test)\n",
        "\n",
        "print(\"Accuracy:\",metrics.accuracy_score(y_test, y_pred))\n",
        "\n",
        "# Model Precision: what percentage of positive tuples are labeled as such?\n",
        "print(\"Precision:\",metrics.precision_score(y_test, y_pred, average='weighted'))\n",
        "\n",
        "# Model Recall: what percentage of positive tuples are labelled as such?\n",
        "print(\"Recall:\",metrics.recall_score(y_test, y_pred, average='weighted'))"
      ]
    }
  ],
  "metadata": {
    "colab": {
      "provenance": []
    },
    "kernelspec": {
      "display_name": "Python 3",
      "name": "python3"
    },
    "language_info": {
      "name": "python"
    }
  },
  "nbformat": 4,
  "nbformat_minor": 0
}